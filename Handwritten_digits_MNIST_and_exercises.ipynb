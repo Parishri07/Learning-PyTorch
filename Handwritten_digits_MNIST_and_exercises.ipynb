{
  "nbformat": 4,
  "nbformat_minor": 0,
  "metadata": {
    "colab": {
      "provenance": [],
      "include_colab_link": true
    },
    "kernelspec": {
      "name": "python3",
      "display_name": "Python 3"
    },
    "language_info": {
      "name": "python"
    },
    "accelerator": "GPU",
    "widgets": {
      "application/vnd.jupyter.widget-state+json": {
        "eb2c3b032b3f49219c4c5f1f2c1690e7": {
          "model_module": "@jupyter-widgets/controls",
          "model_name": "HBoxModel",
          "model_module_version": "1.5.0",
          "state": {
            "_dom_classes": [],
            "_model_module": "@jupyter-widgets/controls",
            "_model_module_version": "1.5.0",
            "_model_name": "HBoxModel",
            "_view_count": null,
            "_view_module": "@jupyter-widgets/controls",
            "_view_module_version": "1.5.0",
            "_view_name": "HBoxView",
            "box_style": "",
            "children": [
              "IPY_MODEL_89bc8f858e604308975b5d744026864e",
              "IPY_MODEL_23ae559098e84a50bae40cb9f4ff1b2d",
              "IPY_MODEL_3a84d9c60fce4fd69335c587463f632a"
            ],
            "layout": "IPY_MODEL_021cc3d151a14cbe8ded5ad4918a36b5"
          }
        },
        "89bc8f858e604308975b5d744026864e": {
          "model_module": "@jupyter-widgets/controls",
          "model_name": "HTMLModel",
          "model_module_version": "1.5.0",
          "state": {
            "_dom_classes": [],
            "_model_module": "@jupyter-widgets/controls",
            "_model_module_version": "1.5.0",
            "_model_name": "HTMLModel",
            "_view_count": null,
            "_view_module": "@jupyter-widgets/controls",
            "_view_module_version": "1.5.0",
            "_view_name": "HTMLView",
            "description": "",
            "description_tooltip": null,
            "layout": "IPY_MODEL_6b23ea75d925493b995d4f2ef5ce87c7",
            "placeholder": "​",
            "style": "IPY_MODEL_c9a93baf81834171b896f016e25925c2",
            "value": "Making predictions...: 100%"
          }
        },
        "23ae559098e84a50bae40cb9f4ff1b2d": {
          "model_module": "@jupyter-widgets/controls",
          "model_name": "FloatProgressModel",
          "model_module_version": "1.5.0",
          "state": {
            "_dom_classes": [],
            "_model_module": "@jupyter-widgets/controls",
            "_model_module_version": "1.5.0",
            "_model_name": "FloatProgressModel",
            "_view_count": null,
            "_view_module": "@jupyter-widgets/controls",
            "_view_module_version": "1.5.0",
            "_view_name": "ProgressView",
            "bar_style": "success",
            "description": "",
            "description_tooltip": null,
            "layout": "IPY_MODEL_477519b49a934a6b8d4a3b6f465e070a",
            "max": 313,
            "min": 0,
            "orientation": "horizontal",
            "style": "IPY_MODEL_2e77af17c18e45aaa11dc2a1a9ed15fd",
            "value": 313
          }
        },
        "3a84d9c60fce4fd69335c587463f632a": {
          "model_module": "@jupyter-widgets/controls",
          "model_name": "HTMLModel",
          "model_module_version": "1.5.0",
          "state": {
            "_dom_classes": [],
            "_model_module": "@jupyter-widgets/controls",
            "_model_module_version": "1.5.0",
            "_model_name": "HTMLModel",
            "_view_count": null,
            "_view_module": "@jupyter-widgets/controls",
            "_view_module_version": "1.5.0",
            "_view_name": "HTMLView",
            "description": "",
            "description_tooltip": null,
            "layout": "IPY_MODEL_f31d0c327c3241faa31e876b43c81f72",
            "placeholder": "​",
            "style": "IPY_MODEL_b5b75bc5bd7d4c8a8fe5dc3d47d8e339",
            "value": " 313/313 [00:01&lt;00:00, 224.00it/s]"
          }
        },
        "021cc3d151a14cbe8ded5ad4918a36b5": {
          "model_module": "@jupyter-widgets/base",
          "model_name": "LayoutModel",
          "model_module_version": "1.2.0",
          "state": {
            "_model_module": "@jupyter-widgets/base",
            "_model_module_version": "1.2.0",
            "_model_name": "LayoutModel",
            "_view_count": null,
            "_view_module": "@jupyter-widgets/base",
            "_view_module_version": "1.2.0",
            "_view_name": "LayoutView",
            "align_content": null,
            "align_items": null,
            "align_self": null,
            "border": null,
            "bottom": null,
            "display": null,
            "flex": null,
            "flex_flow": null,
            "grid_area": null,
            "grid_auto_columns": null,
            "grid_auto_flow": null,
            "grid_auto_rows": null,
            "grid_column": null,
            "grid_gap": null,
            "grid_row": null,
            "grid_template_areas": null,
            "grid_template_columns": null,
            "grid_template_rows": null,
            "height": null,
            "justify_content": null,
            "justify_items": null,
            "left": null,
            "margin": null,
            "max_height": null,
            "max_width": null,
            "min_height": null,
            "min_width": null,
            "object_fit": null,
            "object_position": null,
            "order": null,
            "overflow": null,
            "overflow_x": null,
            "overflow_y": null,
            "padding": null,
            "right": null,
            "top": null,
            "visibility": null,
            "width": null
          }
        },
        "6b23ea75d925493b995d4f2ef5ce87c7": {
          "model_module": "@jupyter-widgets/base",
          "model_name": "LayoutModel",
          "model_module_version": "1.2.0",
          "state": {
            "_model_module": "@jupyter-widgets/base",
            "_model_module_version": "1.2.0",
            "_model_name": "LayoutModel",
            "_view_count": null,
            "_view_module": "@jupyter-widgets/base",
            "_view_module_version": "1.2.0",
            "_view_name": "LayoutView",
            "align_content": null,
            "align_items": null,
            "align_self": null,
            "border": null,
            "bottom": null,
            "display": null,
            "flex": null,
            "flex_flow": null,
            "grid_area": null,
            "grid_auto_columns": null,
            "grid_auto_flow": null,
            "grid_auto_rows": null,
            "grid_column": null,
            "grid_gap": null,
            "grid_row": null,
            "grid_template_areas": null,
            "grid_template_columns": null,
            "grid_template_rows": null,
            "height": null,
            "justify_content": null,
            "justify_items": null,
            "left": null,
            "margin": null,
            "max_height": null,
            "max_width": null,
            "min_height": null,
            "min_width": null,
            "object_fit": null,
            "object_position": null,
            "order": null,
            "overflow": null,
            "overflow_x": null,
            "overflow_y": null,
            "padding": null,
            "right": null,
            "top": null,
            "visibility": null,
            "width": null
          }
        },
        "c9a93baf81834171b896f016e25925c2": {
          "model_module": "@jupyter-widgets/controls",
          "model_name": "DescriptionStyleModel",
          "model_module_version": "1.5.0",
          "state": {
            "_model_module": "@jupyter-widgets/controls",
            "_model_module_version": "1.5.0",
            "_model_name": "DescriptionStyleModel",
            "_view_count": null,
            "_view_module": "@jupyter-widgets/base",
            "_view_module_version": "1.2.0",
            "_view_name": "StyleView",
            "description_width": ""
          }
        },
        "477519b49a934a6b8d4a3b6f465e070a": {
          "model_module": "@jupyter-widgets/base",
          "model_name": "LayoutModel",
          "model_module_version": "1.2.0",
          "state": {
            "_model_module": "@jupyter-widgets/base",
            "_model_module_version": "1.2.0",
            "_model_name": "LayoutModel",
            "_view_count": null,
            "_view_module": "@jupyter-widgets/base",
            "_view_module_version": "1.2.0",
            "_view_name": "LayoutView",
            "align_content": null,
            "align_items": null,
            "align_self": null,
            "border": null,
            "bottom": null,
            "display": null,
            "flex": null,
            "flex_flow": null,
            "grid_area": null,
            "grid_auto_columns": null,
            "grid_auto_flow": null,
            "grid_auto_rows": null,
            "grid_column": null,
            "grid_gap": null,
            "grid_row": null,
            "grid_template_areas": null,
            "grid_template_columns": null,
            "grid_template_rows": null,
            "height": null,
            "justify_content": null,
            "justify_items": null,
            "left": null,
            "margin": null,
            "max_height": null,
            "max_width": null,
            "min_height": null,
            "min_width": null,
            "object_fit": null,
            "object_position": null,
            "order": null,
            "overflow": null,
            "overflow_x": null,
            "overflow_y": null,
            "padding": null,
            "right": null,
            "top": null,
            "visibility": null,
            "width": null
          }
        },
        "2e77af17c18e45aaa11dc2a1a9ed15fd": {
          "model_module": "@jupyter-widgets/controls",
          "model_name": "ProgressStyleModel",
          "model_module_version": "1.5.0",
          "state": {
            "_model_module": "@jupyter-widgets/controls",
            "_model_module_version": "1.5.0",
            "_model_name": "ProgressStyleModel",
            "_view_count": null,
            "_view_module": "@jupyter-widgets/base",
            "_view_module_version": "1.2.0",
            "_view_name": "StyleView",
            "bar_color": null,
            "description_width": ""
          }
        },
        "f31d0c327c3241faa31e876b43c81f72": {
          "model_module": "@jupyter-widgets/base",
          "model_name": "LayoutModel",
          "model_module_version": "1.2.0",
          "state": {
            "_model_module": "@jupyter-widgets/base",
            "_model_module_version": "1.2.0",
            "_model_name": "LayoutModel",
            "_view_count": null,
            "_view_module": "@jupyter-widgets/base",
            "_view_module_version": "1.2.0",
            "_view_name": "LayoutView",
            "align_content": null,
            "align_items": null,
            "align_self": null,
            "border": null,
            "bottom": null,
            "display": null,
            "flex": null,
            "flex_flow": null,
            "grid_area": null,
            "grid_auto_columns": null,
            "grid_auto_flow": null,
            "grid_auto_rows": null,
            "grid_column": null,
            "grid_gap": null,
            "grid_row": null,
            "grid_template_areas": null,
            "grid_template_columns": null,
            "grid_template_rows": null,
            "height": null,
            "justify_content": null,
            "justify_items": null,
            "left": null,
            "margin": null,
            "max_height": null,
            "max_width": null,
            "min_height": null,
            "min_width": null,
            "object_fit": null,
            "object_position": null,
            "order": null,
            "overflow": null,
            "overflow_x": null,
            "overflow_y": null,
            "padding": null,
            "right": null,
            "top": null,
            "visibility": null,
            "width": null
          }
        },
        "b5b75bc5bd7d4c8a8fe5dc3d47d8e339": {
          "model_module": "@jupyter-widgets/controls",
          "model_name": "DescriptionStyleModel",
          "model_module_version": "1.5.0",
          "state": {
            "_model_module": "@jupyter-widgets/controls",
            "_model_module_version": "1.5.0",
            "_model_name": "DescriptionStyleModel",
            "_view_count": null,
            "_view_module": "@jupyter-widgets/base",
            "_view_module_version": "1.2.0",
            "_view_name": "StyleView",
            "description_width": ""
          }
        }
      }
    }
  },
  "cells": [
    {
      "cell_type": "markdown",
      "metadata": {
        "id": "view-in-github",
        "colab_type": "text"
      },
      "source": [
        "<a href=\"https://colab.research.google.com/github/Parishri07/Learning-PyTorch/blob/main/Handwritten_digits_MNIST_and_exercises.ipynb\" target=\"_parent\"><img src=\"https://colab.research.google.com/assets/colab-badge.svg\" alt=\"Open In Colab\"/></a>"
      ]
    },
    {
      "cell_type": "markdown",
      "source": [
        "# 03. PyTorch Computer Vision Exercises\n",
        "\n",
        "The following is a collection of exercises based on computer vision fundamentals in PyTorch.\n",
        "\n",
        "They're a bunch of fun.\n",
        "\n",
        "You're going to get to write plenty of code!\n",
        "\n",
        "## Resources\n",
        "\n",
        "1. These exercises are based on [notebook 03 of the Learn PyTorch for Deep Learning course](https://www.learnpytorch.io/03_pytorch_computer_vision/).\n",
        "2. See a live [walkthrough of the solutions (errors and all) on YouTube](https://youtu.be/_PibmqpEyhA).\n",
        "  * **Note:** Going through these exercises took me just over 3 hours of solid coding, so you should expect around the same.\n",
        "3. See [other solutions on the course GitHub](https://github.com/mrdbourke/pytorch-deep-learning/tree/main/extras/solutions)."
      ],
      "metadata": {
        "id": "Vex99np2wFVt"
      }
    },
    {
      "cell_type": "code",
      "source": [
        "# Check for GPU\n",
        "!nvidia-smi"
      ],
      "metadata": {
        "colab": {
          "base_uri": "https://localhost:8080/"
        },
        "id": "GaeYzOTLwWh2",
        "outputId": "9b7c6385-1a9c-4420-8bf4-401f0efaacbf"
      },
      "execution_count": 1,
      "outputs": [
        {
          "output_type": "stream",
          "name": "stdout",
          "text": [
            "Fri Jul 19 13:12:07 2024       \n",
            "+---------------------------------------------------------------------------------------+\n",
            "| NVIDIA-SMI 535.104.05             Driver Version: 535.104.05   CUDA Version: 12.2     |\n",
            "|-----------------------------------------+----------------------+----------------------+\n",
            "| GPU  Name                 Persistence-M | Bus-Id        Disp.A | Volatile Uncorr. ECC |\n",
            "| Fan  Temp   Perf          Pwr:Usage/Cap |         Memory-Usage | GPU-Util  Compute M. |\n",
            "|                                         |                      |               MIG M. |\n",
            "|=========================================+======================+======================|\n",
            "|   0  Tesla T4                       Off | 00000000:00:04.0 Off |                    0 |\n",
            "| N/A   39C    P8               9W /  70W |      0MiB / 15360MiB |      0%      Default |\n",
            "|                                         |                      |                  N/A |\n",
            "+-----------------------------------------+----------------------+----------------------+\n",
            "                                                                                         \n",
            "+---------------------------------------------------------------------------------------+\n",
            "| Processes:                                                                            |\n",
            "|  GPU   GI   CI        PID   Type   Process name                            GPU Memory |\n",
            "|        ID   ID                                                             Usage      |\n",
            "|=======================================================================================|\n",
            "|  No running processes found                                                           |\n",
            "+---------------------------------------------------------------------------------------+\n"
          ]
        }
      ]
    },
    {
      "cell_type": "code",
      "source": [
        "# Import torch\n",
        "import torch\n",
        "\n",
        "# Exercises require PyTorch > 1.10.0\n",
        "print(torch.__version__)\n",
        "\n",
        "#Setup device agnostic code\n",
        "device = \"cuda\" if torch.cuda.is_available() else \"cpu\"\n",
        "device"
      ],
      "metadata": {
        "colab": {
          "base_uri": "https://localhost:8080/",
          "height": 53
        },
        "id": "DNwZLMbCzJLk",
        "outputId": "c6782f31-fc6e-4f00-9362-ec4101bd72a4"
      },
      "execution_count": 2,
      "outputs": [
        {
          "output_type": "stream",
          "name": "stdout",
          "text": [
            "2.3.1+cu121\n"
          ]
        },
        {
          "output_type": "execute_result",
          "data": {
            "text/plain": [
              "'cuda'"
            ],
            "application/vnd.google.colaboratory.intrinsic+json": {
              "type": "string"
            }
          },
          "metadata": {},
          "execution_count": 2
        }
      ]
    },
    {
      "cell_type": "markdown",
      "source": [
        "## 1. What are 3 areas in industry where computer vision is currently being used?"
      ],
      "metadata": {
        "id": "FSFX7tc1w-en"
      }
    },
    {
      "cell_type": "markdown",
      "source": [
        "Self-driving cars, such as Tesla using computer vision to percieve what's happening on the road. See Tesla AI day for more - https://youtu.be/j0z4FweCy4M\n",
        "\n",
        "Healthcare imaging, such as using computer vision to help interpret X-rays. Google also uses computer vision for detecting polyps in the intenstines - https://ai.googleblog.com/2021/08/improved-detection-of-elusive-polyps.html\n",
        "\n",
        "Security, computer vision can be used to detect whether someone is invading your home or not - https://store.google.com/au/product/nest_cam_battery?hl=en-GB"
      ],
      "metadata": {
        "id": "s9K-OATcII4Y"
      }
    },
    {
      "cell_type": "markdown",
      "source": [
        "## 2. Search \"what is overfitting in machine learning\" and write down a sentence about what you find."
      ],
      "metadata": {
        "id": "oBK-WI6YxDYa"
      }
    },
    {
      "cell_type": "markdown",
      "source": [
        "Overfitting is an undesirable machine learning behavior that occurs when the machine learning model gives accurate predictions for training data but not for new data.\n"
      ],
      "metadata": {
        "id": "yguv9Rk1IZRy"
      }
    },
    {
      "cell_type": "markdown",
      "source": [
        "## 3. Search \"ways to prevent overfitting in machine learning\", write down 3 of the things you find and a sentence about each."
      ],
      "metadata": {
        "id": "XeYFEqw8xK26"
      }
    },
    {
      "cell_type": "markdown",
      "source": [
        "**Pruning**\n",
        "\n",
        "You might identify several features or parameters that impact the final prediction when you build a model. Feature selection—or pruning—identifies the most important features within the training set and eliminates irrelevant ones. For example, to predict if an image is an animal or human, you can look at various input parameters like face shape, ear position, body structure, etc. You may prioritize face shape and ignore the shape of the eyes.\n",
        "\n",
        "**Regularization**\n",
        "\n",
        "Regularization is a collection of training/optimization techniques that seek to reduce overfitting. These methods try to eliminate those factors that do not impact the prediction outcomes by grading features based on importance. For example, mathematical calculations apply a penalty value to features with minimal impact. Consider a statistical model attempting to predict the housing prices of a city in 20 years. Regularization would give a lower penalty value to features like population growth and average annual income but a higher penalty value to the average annual temperature of the city.\n",
        "\n",
        "**Ensembling**\n",
        "\n",
        "Ensembling combines predictions from several separate machine learning algorithms. Some models are called weak learners because their results are often inaccurate. Ensemble methods combine all the weak learners to get more accurate results. They use multiple models to analyze sample data and pick the most accurate outcomes. The two main ensemble methods are bagging and boosting. Boosting trains different machine learning models one after another to get the final result, while bagging trains them in parallel."
      ],
      "metadata": {
        "id": "QXLe5Si7I8WQ"
      }
    },
    {
      "cell_type": "markdown",
      "source": [
        "## 4. Spend 20-minutes reading and clicking through the [CNN Explainer website](https://poloclub.github.io/cnn-explainer/).\n",
        "\n"
      ],
      "metadata": {
        "id": "DKdEEFEqxM-8"
      }
    },
    {
      "cell_type": "markdown",
      "source": [
        "## 5. Load the [`torchvision.datasets.MNIST()`](https://pytorch.org/vision/stable/generated/torchvision.datasets.MNIST.html#torchvision.datasets.MNIST) train and test datasets."
      ],
      "metadata": {
        "id": "lvf-3pODxXYI"
      }
    },
    {
      "cell_type": "code",
      "source": [
        "from torchvision import datasets\n",
        "from torchvision import transforms\n",
        "\n",
        "# Get the MNIST train dataset\n",
        "train_data = datasets.MNIST(root=\".\",\n",
        "                            train=True,\n",
        "                            download=True,\n",
        "                            transform=transforms.ToTensor())\n",
        "\n",
        "# Get the MNIST test dataset\n",
        "test_data = datasets.MNIST(root=\".\",\n",
        "                           train=False,\n",
        "                           download=True,\n",
        "                           transform=transforms.ToTensor())"
      ],
      "metadata": {
        "id": "SHjeuN81bHza",
        "colab": {
          "base_uri": "https://localhost:8080/"
        },
        "outputId": "af6bdef0-bb1b-42fd-be8e-42cbfb6e8c62"
      },
      "execution_count": 3,
      "outputs": [
        {
          "output_type": "stream",
          "name": "stdout",
          "text": [
            "Downloading http://yann.lecun.com/exdb/mnist/train-images-idx3-ubyte.gz\n",
            "Failed to download (trying next):\n",
            "HTTP Error 403: Forbidden\n",
            "\n",
            "Downloading https://ossci-datasets.s3.amazonaws.com/mnist/train-images-idx3-ubyte.gz\n",
            "Downloading https://ossci-datasets.s3.amazonaws.com/mnist/train-images-idx3-ubyte.gz to ./MNIST/raw/train-images-idx3-ubyte.gz\n"
          ]
        },
        {
          "output_type": "stream",
          "name": "stderr",
          "text": [
            "100%|██████████| 9912422/9912422 [00:00<00:00, 12136555.07it/s]\n"
          ]
        },
        {
          "output_type": "stream",
          "name": "stdout",
          "text": [
            "Extracting ./MNIST/raw/train-images-idx3-ubyte.gz to ./MNIST/raw\n",
            "\n",
            "Downloading http://yann.lecun.com/exdb/mnist/train-labels-idx1-ubyte.gz\n",
            "Failed to download (trying next):\n",
            "HTTP Error 403: Forbidden\n",
            "\n",
            "Downloading https://ossci-datasets.s3.amazonaws.com/mnist/train-labels-idx1-ubyte.gz\n",
            "Downloading https://ossci-datasets.s3.amazonaws.com/mnist/train-labels-idx1-ubyte.gz to ./MNIST/raw/train-labels-idx1-ubyte.gz\n"
          ]
        },
        {
          "output_type": "stream",
          "name": "stderr",
          "text": [
            "100%|██████████| 28881/28881 [00:00<00:00, 493995.88it/s]\n"
          ]
        },
        {
          "output_type": "stream",
          "name": "stdout",
          "text": [
            "Extracting ./MNIST/raw/train-labels-idx1-ubyte.gz to ./MNIST/raw\n",
            "\n",
            "Downloading http://yann.lecun.com/exdb/mnist/t10k-images-idx3-ubyte.gz\n",
            "Failed to download (trying next):\n",
            "HTTP Error 403: Forbidden\n",
            "\n",
            "Downloading https://ossci-datasets.s3.amazonaws.com/mnist/t10k-images-idx3-ubyte.gz\n",
            "Downloading https://ossci-datasets.s3.amazonaws.com/mnist/t10k-images-idx3-ubyte.gz to ./MNIST/raw/t10k-images-idx3-ubyte.gz\n"
          ]
        },
        {
          "output_type": "stream",
          "name": "stderr",
          "text": [
            "100%|██████████| 1648877/1648877 [00:00<00:00, 3837165.05it/s]\n"
          ]
        },
        {
          "output_type": "stream",
          "name": "stdout",
          "text": [
            "Extracting ./MNIST/raw/t10k-images-idx3-ubyte.gz to ./MNIST/raw\n",
            "\n",
            "Downloading http://yann.lecun.com/exdb/mnist/t10k-labels-idx1-ubyte.gz\n",
            "Failed to download (trying next):\n",
            "HTTP Error 403: Forbidden\n",
            "\n",
            "Downloading https://ossci-datasets.s3.amazonaws.com/mnist/t10k-labels-idx1-ubyte.gz\n",
            "Downloading https://ossci-datasets.s3.amazonaws.com/mnist/t10k-labels-idx1-ubyte.gz to ./MNIST/raw/t10k-labels-idx1-ubyte.gz\n"
          ]
        },
        {
          "output_type": "stream",
          "name": "stderr",
          "text": [
            "100%|██████████| 4542/4542 [00:00<00:00, 5026524.74it/s]"
          ]
        },
        {
          "output_type": "stream",
          "name": "stdout",
          "text": [
            "Extracting ./MNIST/raw/t10k-labels-idx1-ubyte.gz to ./MNIST/raw\n",
            "\n"
          ]
        },
        {
          "output_type": "stream",
          "name": "stderr",
          "text": [
            "\n"
          ]
        }
      ]
    },
    {
      "cell_type": "code",
      "source": [
        "train_data, test_data"
      ],
      "metadata": {
        "colab": {
          "base_uri": "https://localhost:8080/"
        },
        "id": "4lhqFhtdSd7l",
        "outputId": "80cf937b-a729-4a15-aafa-c1e4e09c489b"
      },
      "execution_count": 4,
      "outputs": [
        {
          "output_type": "execute_result",
          "data": {
            "text/plain": [
              "(Dataset MNIST\n",
              "     Number of datapoints: 60000\n",
              "     Root location: .\n",
              "     Split: Train\n",
              "     StandardTransform\n",
              " Transform: ToTensor(),\n",
              " Dataset MNIST\n",
              "     Number of datapoints: 10000\n",
              "     Root location: .\n",
              "     Split: Test\n",
              "     StandardTransform\n",
              " Transform: ToTensor())"
            ]
          },
          "metadata": {},
          "execution_count": 4
        }
      ]
    },
    {
      "cell_type": "code",
      "source": [
        "len(train_data), len(test_data)"
      ],
      "metadata": {
        "colab": {
          "base_uri": "https://localhost:8080/"
        },
        "id": "5_Z3um54TnYG",
        "outputId": "e5fc5a7b-c4cd-47ae-a055-c3e3eccbc0fe"
      },
      "execution_count": 5,
      "outputs": [
        {
          "output_type": "execute_result",
          "data": {
            "text/plain": [
              "(60000, 10000)"
            ]
          },
          "metadata": {},
          "execution_count": 5
        }
      ]
    },
    {
      "cell_type": "code",
      "source": [
        "# Data is in tuple form (image, label)\n",
        "img = train_data[0][0]\n",
        "label = train_data[0][1]\n",
        "print(f\"Image:\\n {img}\")\n",
        "print(f\"Label:\\n {label}\")"
      ],
      "metadata": {
        "colab": {
          "base_uri": "https://localhost:8080/"
        },
        "id": "MIrpdzXTTo5L",
        "outputId": "29c98dfc-1d66-4f90-c7b5-e68ad0d47c3e"
      },
      "execution_count": 6,
      "outputs": [
        {
          "output_type": "stream",
          "name": "stdout",
          "text": [
            "Image:\n",
            " tensor([[[0.0000, 0.0000, 0.0000, 0.0000, 0.0000, 0.0000, 0.0000, 0.0000,\n",
            "          0.0000, 0.0000, 0.0000, 0.0000, 0.0000, 0.0000, 0.0000, 0.0000,\n",
            "          0.0000, 0.0000, 0.0000, 0.0000, 0.0000, 0.0000, 0.0000, 0.0000,\n",
            "          0.0000, 0.0000, 0.0000, 0.0000],\n",
            "         [0.0000, 0.0000, 0.0000, 0.0000, 0.0000, 0.0000, 0.0000, 0.0000,\n",
            "          0.0000, 0.0000, 0.0000, 0.0000, 0.0000, 0.0000, 0.0000, 0.0000,\n",
            "          0.0000, 0.0000, 0.0000, 0.0000, 0.0000, 0.0000, 0.0000, 0.0000,\n",
            "          0.0000, 0.0000, 0.0000, 0.0000],\n",
            "         [0.0000, 0.0000, 0.0000, 0.0000, 0.0000, 0.0000, 0.0000, 0.0000,\n",
            "          0.0000, 0.0000, 0.0000, 0.0000, 0.0000, 0.0000, 0.0000, 0.0000,\n",
            "          0.0000, 0.0000, 0.0000, 0.0000, 0.0000, 0.0000, 0.0000, 0.0000,\n",
            "          0.0000, 0.0000, 0.0000, 0.0000],\n",
            "         [0.0000, 0.0000, 0.0000, 0.0000, 0.0000, 0.0000, 0.0000, 0.0000,\n",
            "          0.0000, 0.0000, 0.0000, 0.0000, 0.0000, 0.0000, 0.0000, 0.0000,\n",
            "          0.0000, 0.0000, 0.0000, 0.0000, 0.0000, 0.0000, 0.0000, 0.0000,\n",
            "          0.0000, 0.0000, 0.0000, 0.0000],\n",
            "         [0.0000, 0.0000, 0.0000, 0.0000, 0.0000, 0.0000, 0.0000, 0.0000,\n",
            "          0.0000, 0.0000, 0.0000, 0.0000, 0.0000, 0.0000, 0.0000, 0.0000,\n",
            "          0.0000, 0.0000, 0.0000, 0.0000, 0.0000, 0.0000, 0.0000, 0.0000,\n",
            "          0.0000, 0.0000, 0.0000, 0.0000],\n",
            "         [0.0000, 0.0000, 0.0000, 0.0000, 0.0000, 0.0000, 0.0000, 0.0000,\n",
            "          0.0000, 0.0000, 0.0000, 0.0000, 0.0118, 0.0706, 0.0706, 0.0706,\n",
            "          0.4941, 0.5333, 0.6863, 0.1020, 0.6510, 1.0000, 0.9686, 0.4980,\n",
            "          0.0000, 0.0000, 0.0000, 0.0000],\n",
            "         [0.0000, 0.0000, 0.0000, 0.0000, 0.0000, 0.0000, 0.0000, 0.0000,\n",
            "          0.1176, 0.1412, 0.3686, 0.6039, 0.6667, 0.9922, 0.9922, 0.9922,\n",
            "          0.9922, 0.9922, 0.8824, 0.6745, 0.9922, 0.9490, 0.7647, 0.2510,\n",
            "          0.0000, 0.0000, 0.0000, 0.0000],\n",
            "         [0.0000, 0.0000, 0.0000, 0.0000, 0.0000, 0.0000, 0.0000, 0.1922,\n",
            "          0.9333, 0.9922, 0.9922, 0.9922, 0.9922, 0.9922, 0.9922, 0.9922,\n",
            "          0.9922, 0.9843, 0.3647, 0.3216, 0.3216, 0.2196, 0.1529, 0.0000,\n",
            "          0.0000, 0.0000, 0.0000, 0.0000],\n",
            "         [0.0000, 0.0000, 0.0000, 0.0000, 0.0000, 0.0000, 0.0000, 0.0706,\n",
            "          0.8588, 0.9922, 0.9922, 0.9922, 0.9922, 0.9922, 0.7765, 0.7137,\n",
            "          0.9686, 0.9451, 0.0000, 0.0000, 0.0000, 0.0000, 0.0000, 0.0000,\n",
            "          0.0000, 0.0000, 0.0000, 0.0000],\n",
            "         [0.0000, 0.0000, 0.0000, 0.0000, 0.0000, 0.0000, 0.0000, 0.0000,\n",
            "          0.3137, 0.6118, 0.4196, 0.9922, 0.9922, 0.8039, 0.0431, 0.0000,\n",
            "          0.1686, 0.6039, 0.0000, 0.0000, 0.0000, 0.0000, 0.0000, 0.0000,\n",
            "          0.0000, 0.0000, 0.0000, 0.0000],\n",
            "         [0.0000, 0.0000, 0.0000, 0.0000, 0.0000, 0.0000, 0.0000, 0.0000,\n",
            "          0.0000, 0.0549, 0.0039, 0.6039, 0.9922, 0.3529, 0.0000, 0.0000,\n",
            "          0.0000, 0.0000, 0.0000, 0.0000, 0.0000, 0.0000, 0.0000, 0.0000,\n",
            "          0.0000, 0.0000, 0.0000, 0.0000],\n",
            "         [0.0000, 0.0000, 0.0000, 0.0000, 0.0000, 0.0000, 0.0000, 0.0000,\n",
            "          0.0000, 0.0000, 0.0000, 0.5451, 0.9922, 0.7451, 0.0078, 0.0000,\n",
            "          0.0000, 0.0000, 0.0000, 0.0000, 0.0000, 0.0000, 0.0000, 0.0000,\n",
            "          0.0000, 0.0000, 0.0000, 0.0000],\n",
            "         [0.0000, 0.0000, 0.0000, 0.0000, 0.0000, 0.0000, 0.0000, 0.0000,\n",
            "          0.0000, 0.0000, 0.0000, 0.0431, 0.7451, 0.9922, 0.2745, 0.0000,\n",
            "          0.0000, 0.0000, 0.0000, 0.0000, 0.0000, 0.0000, 0.0000, 0.0000,\n",
            "          0.0000, 0.0000, 0.0000, 0.0000],\n",
            "         [0.0000, 0.0000, 0.0000, 0.0000, 0.0000, 0.0000, 0.0000, 0.0000,\n",
            "          0.0000, 0.0000, 0.0000, 0.0000, 0.1373, 0.9451, 0.8824, 0.6275,\n",
            "          0.4235, 0.0039, 0.0000, 0.0000, 0.0000, 0.0000, 0.0000, 0.0000,\n",
            "          0.0000, 0.0000, 0.0000, 0.0000],\n",
            "         [0.0000, 0.0000, 0.0000, 0.0000, 0.0000, 0.0000, 0.0000, 0.0000,\n",
            "          0.0000, 0.0000, 0.0000, 0.0000, 0.0000, 0.3176, 0.9412, 0.9922,\n",
            "          0.9922, 0.4667, 0.0980, 0.0000, 0.0000, 0.0000, 0.0000, 0.0000,\n",
            "          0.0000, 0.0000, 0.0000, 0.0000],\n",
            "         [0.0000, 0.0000, 0.0000, 0.0000, 0.0000, 0.0000, 0.0000, 0.0000,\n",
            "          0.0000, 0.0000, 0.0000, 0.0000, 0.0000, 0.0000, 0.1765, 0.7294,\n",
            "          0.9922, 0.9922, 0.5882, 0.1059, 0.0000, 0.0000, 0.0000, 0.0000,\n",
            "          0.0000, 0.0000, 0.0000, 0.0000],\n",
            "         [0.0000, 0.0000, 0.0000, 0.0000, 0.0000, 0.0000, 0.0000, 0.0000,\n",
            "          0.0000, 0.0000, 0.0000, 0.0000, 0.0000, 0.0000, 0.0000, 0.0627,\n",
            "          0.3647, 0.9882, 0.9922, 0.7333, 0.0000, 0.0000, 0.0000, 0.0000,\n",
            "          0.0000, 0.0000, 0.0000, 0.0000],\n",
            "         [0.0000, 0.0000, 0.0000, 0.0000, 0.0000, 0.0000, 0.0000, 0.0000,\n",
            "          0.0000, 0.0000, 0.0000, 0.0000, 0.0000, 0.0000, 0.0000, 0.0000,\n",
            "          0.0000, 0.9765, 0.9922, 0.9765, 0.2510, 0.0000, 0.0000, 0.0000,\n",
            "          0.0000, 0.0000, 0.0000, 0.0000],\n",
            "         [0.0000, 0.0000, 0.0000, 0.0000, 0.0000, 0.0000, 0.0000, 0.0000,\n",
            "          0.0000, 0.0000, 0.0000, 0.0000, 0.0000, 0.0000, 0.1804, 0.5098,\n",
            "          0.7176, 0.9922, 0.9922, 0.8118, 0.0078, 0.0000, 0.0000, 0.0000,\n",
            "          0.0000, 0.0000, 0.0000, 0.0000],\n",
            "         [0.0000, 0.0000, 0.0000, 0.0000, 0.0000, 0.0000, 0.0000, 0.0000,\n",
            "          0.0000, 0.0000, 0.0000, 0.0000, 0.1529, 0.5804, 0.8980, 0.9922,\n",
            "          0.9922, 0.9922, 0.9804, 0.7137, 0.0000, 0.0000, 0.0000, 0.0000,\n",
            "          0.0000, 0.0000, 0.0000, 0.0000],\n",
            "         [0.0000, 0.0000, 0.0000, 0.0000, 0.0000, 0.0000, 0.0000, 0.0000,\n",
            "          0.0000, 0.0000, 0.0941, 0.4471, 0.8667, 0.9922, 0.9922, 0.9922,\n",
            "          0.9922, 0.7882, 0.3059, 0.0000, 0.0000, 0.0000, 0.0000, 0.0000,\n",
            "          0.0000, 0.0000, 0.0000, 0.0000],\n",
            "         [0.0000, 0.0000, 0.0000, 0.0000, 0.0000, 0.0000, 0.0000, 0.0000,\n",
            "          0.0902, 0.2588, 0.8353, 0.9922, 0.9922, 0.9922, 0.9922, 0.7765,\n",
            "          0.3176, 0.0078, 0.0000, 0.0000, 0.0000, 0.0000, 0.0000, 0.0000,\n",
            "          0.0000, 0.0000, 0.0000, 0.0000],\n",
            "         [0.0000, 0.0000, 0.0000, 0.0000, 0.0000, 0.0000, 0.0706, 0.6706,\n",
            "          0.8588, 0.9922, 0.9922, 0.9922, 0.9922, 0.7647, 0.3137, 0.0353,\n",
            "          0.0000, 0.0000, 0.0000, 0.0000, 0.0000, 0.0000, 0.0000, 0.0000,\n",
            "          0.0000, 0.0000, 0.0000, 0.0000],\n",
            "         [0.0000, 0.0000, 0.0000, 0.0000, 0.2157, 0.6745, 0.8863, 0.9922,\n",
            "          0.9922, 0.9922, 0.9922, 0.9569, 0.5216, 0.0431, 0.0000, 0.0000,\n",
            "          0.0000, 0.0000, 0.0000, 0.0000, 0.0000, 0.0000, 0.0000, 0.0000,\n",
            "          0.0000, 0.0000, 0.0000, 0.0000],\n",
            "         [0.0000, 0.0000, 0.0000, 0.0000, 0.5333, 0.9922, 0.9922, 0.9922,\n",
            "          0.8314, 0.5294, 0.5176, 0.0627, 0.0000, 0.0000, 0.0000, 0.0000,\n",
            "          0.0000, 0.0000, 0.0000, 0.0000, 0.0000, 0.0000, 0.0000, 0.0000,\n",
            "          0.0000, 0.0000, 0.0000, 0.0000],\n",
            "         [0.0000, 0.0000, 0.0000, 0.0000, 0.0000, 0.0000, 0.0000, 0.0000,\n",
            "          0.0000, 0.0000, 0.0000, 0.0000, 0.0000, 0.0000, 0.0000, 0.0000,\n",
            "          0.0000, 0.0000, 0.0000, 0.0000, 0.0000, 0.0000, 0.0000, 0.0000,\n",
            "          0.0000, 0.0000, 0.0000, 0.0000],\n",
            "         [0.0000, 0.0000, 0.0000, 0.0000, 0.0000, 0.0000, 0.0000, 0.0000,\n",
            "          0.0000, 0.0000, 0.0000, 0.0000, 0.0000, 0.0000, 0.0000, 0.0000,\n",
            "          0.0000, 0.0000, 0.0000, 0.0000, 0.0000, 0.0000, 0.0000, 0.0000,\n",
            "          0.0000, 0.0000, 0.0000, 0.0000],\n",
            "         [0.0000, 0.0000, 0.0000, 0.0000, 0.0000, 0.0000, 0.0000, 0.0000,\n",
            "          0.0000, 0.0000, 0.0000, 0.0000, 0.0000, 0.0000, 0.0000, 0.0000,\n",
            "          0.0000, 0.0000, 0.0000, 0.0000, 0.0000, 0.0000, 0.0000, 0.0000,\n",
            "          0.0000, 0.0000, 0.0000, 0.0000]]])\n",
            "Label:\n",
            " 5\n"
          ]
        }
      ]
    },
    {
      "cell_type": "code",
      "source": [
        "# Check out the shapes of our data\n",
        "print(f\"Image shape: {img.shape} -> [color_channels, height, width] (CHW)\")\n",
        "print(f\"Label: {label} -> no shape, due to being integer\")"
      ],
      "metadata": {
        "colab": {
          "base_uri": "https://localhost:8080/"
        },
        "id": "ziDJAuCjT3-C",
        "outputId": "5728dc26-3c33-4924-e736-ae78e4fed045"
      },
      "execution_count": 7,
      "outputs": [
        {
          "output_type": "stream",
          "name": "stdout",
          "text": [
            "Image shape: torch.Size([1, 28, 28]) -> [color_channels, height, width] (CHW)\n",
            "Label: 5 -> no shape, due to being integer\n"
          ]
        }
      ]
    },
    {
      "cell_type": "code",
      "source": [
        "# Get the class names from the dataset\n",
        "class_names = train_data.classes\n",
        "class_names"
      ],
      "metadata": {
        "id": "CnB2QaO_UGFo",
        "outputId": "d107330d-c5f8-4c95-d09e-bd740a828922",
        "colab": {
          "base_uri": "https://localhost:8080/"
        }
      },
      "execution_count": 8,
      "outputs": [
        {
          "output_type": "execute_result",
          "data": {
            "text/plain": [
              "['0 - zero',\n",
              " '1 - one',\n",
              " '2 - two',\n",
              " '3 - three',\n",
              " '4 - four',\n",
              " '5 - five',\n",
              " '6 - six',\n",
              " '7 - seven',\n",
              " '8 - eight',\n",
              " '9 - nine']"
            ]
          },
          "metadata": {},
          "execution_count": 8
        }
      ]
    },
    {
      "cell_type": "markdown",
      "source": [
        "## 6. Visualize at least 5 different samples of the MNIST training dataset."
      ],
      "metadata": {
        "id": "qxZW-uAbxe_F"
      }
    },
    {
      "cell_type": "code",
      "source": [
        "import matplotlib.pyplot as plt\n",
        "# torch.manual_seed(42)\n",
        "for i in range(5):\n",
        "  random_idx = torch.randint(0, len(train_data), size=[1]).item()\n",
        "  img, label = train_data[random_idx]\n",
        "  fig = plt.figure(figsize=(2, 2))\n",
        "  plt.imshow(img.squeeze())\n",
        "  plt.title(class_names[label])\n",
        "  plt.axis(False);"
      ],
      "metadata": {
        "id": "QVFsYi1PbItE",
        "colab": {
          "base_uri": "https://localhost:8080/",
          "height": 997
        },
        "outputId": "107fe6cd-5277-400a-87f2-42fc84852b41"
      },
      "execution_count": 18,
      "outputs": [
        {
          "output_type": "display_data",
          "data": {
            "text/plain": [
              "<Figure size 200x200 with 1 Axes>"
            ],
            "image/png": "[encoded data removed]"
          },
          "metadata": {}
        },
        {
          "output_type": "display_data",
          "data": {
            "text/plain": [
              "<Figure size 200x200 with 1 Axes>"
            ],
            "image/png": "[encoded data removed]"
          },
          "metadata": {}
        },
        {
          "output_type": "display_data",
          "data": {
            "text/plain": [
              "<Figure size 200x200 with 1 Axes>"
            ],
            "image/png": "[encoded data removed]"
          },
          "metadata": {}
        },
        {
          "output_type": "display_data",
          "data": {
            "text/plain": [
              "<Figure size 200x200 with 1 Axes>"
            ],
            "image/png": "[encoded data removed]"
          },
          "metadata": {}
        },
        {
          "output_type": "display_data",
          "data": {
            "text/plain": [
              "<Figure size 200x200 with 1 Axes>"
            ],
            "image/png": "[encoded data removed]"
          },
          "metadata": {}
        }
      ]
    },
    {
      "cell_type": "markdown",
      "source": [
        "## 7. Turn the MNIST train and test datasets into dataloaders using `torch.utils.data.DataLoader`, set the `batch_size=32`."
      ],
      "metadata": {
        "id": "JAPDzW0wxhi3"
      }
    },
    {
      "cell_type": "code",
      "source": [
        "from torch.utils.data import DataLoader\n",
        "\n",
        "# Setup the batch size hyperparameter\n",
        "BATCH_SIZE = 32\n",
        "\n",
        "# Turn datasets into iterables (batches)\n",
        "train_dataloader = DataLoader(dataset=train_data,\n",
        "                              batch_size=BATCH_SIZE,\n",
        "                              shuffle=True)\n",
        "\n",
        "test_dataloader = DataLoader(dataset=test_data,\n",
        "                             batch_size=BATCH_SIZE,\n",
        "                             shuffle=False)\n",
        "\n",
        "train_dataloader, test_dataloader"
      ],
      "metadata": {
        "id": "ALA6MPcFbJXQ",
        "colab": {
          "base_uri": "https://localhost:8080/"
        },
        "outputId": "61a3fd5c-55be-4176-c39d-f13771fd576f"
      },
      "execution_count": 10,
      "outputs": [
        {
          "output_type": "execute_result",
          "data": {
            "text/plain": [
              "(<torch.utils.data.dataloader.DataLoader at 0x7a2347dc3eb0>,\n",
              " <torch.utils.data.dataloader.DataLoader at 0x7a2347dc37f0>)"
            ]
          },
          "metadata": {},
          "execution_count": 10
        }
      ]
    },
    {
      "cell_type": "code",
      "source": [
        "print(f\"DataLoaders: {train_dataloader, test_dataloader}\")\n",
        "print(f\"Length of train_dataloader: {len(train_dataloader)} batches of {BATCH_SIZE}.\")\n",
        "print(f\"Length of test_dataloader: {len(test_dataloader)} batches of {BATCH_SIZE}.\")"
      ],
      "metadata": {
        "colab": {
          "base_uri": "https://localhost:8080/"
        },
        "id": "WX_-fEKFNXmk",
        "outputId": "d16e4b7e-56b4-4434-d992-9fc570603c35"
      },
      "execution_count": 11,
      "outputs": [
        {
          "output_type": "stream",
          "name": "stdout",
          "text": [
            "DataLoaders: (<torch.utils.data.dataloader.DataLoader object at 0x7a2347dc3eb0>, <torch.utils.data.dataloader.DataLoader object at 0x7a2347dc37f0>)\n",
            "Length of train_dataloader: 1875 batches of 32.\n",
            "Length of test_dataloader: 313 batches of 32.\n"
          ]
        }
      ]
    },
    {
      "cell_type": "markdown",
      "source": [
        "## 8. Recreate `model_2` used in notebook 03 (the same model from the [CNN Explainer website](https://poloclub.github.io/cnn-explainer/), also known as TinyVGG) capable of fitting on the MNIST dataset."
      ],
      "metadata": {
        "id": "bCCVfXk5xjYS"
      }
    },
    {
      "cell_type": "code",
      "source": [
        "import torch.nn as nn\n",
        "\n",
        "class HandwrittenDigitsMNISTModel(nn.Module):\n",
        "  \"\"\"\n",
        "  Model architecture that replicates the TinyVGG\n",
        "  model from CNN explainer website.\n",
        "  \"\"\"\n",
        "  def __init__(self, input_shape: int, hidden_units: int, output_shape: int):\n",
        "    super().__init__()\n",
        "    self.conv_block_1 = nn.Sequential(\n",
        "        # Create a conv layer - https://pytorch.org/docs/stable/generated/torch.nn.Conv2d.html\n",
        "        nn.Conv2d(in_channels=input_shape,\n",
        "                  out_channels=hidden_units,\n",
        "                  kernel_size=3,\n",
        "                  stride=1,\n",
        "                  padding=1), # values we can set ourselves in our NN's are called hyperparameters\n",
        "        nn.ReLU(),\n",
        "        nn.Conv2d(in_channels=hidden_units,\n",
        "                  out_channels=hidden_units,\n",
        "                  kernel_size=3,\n",
        "                  stride=1,\n",
        "                  padding=1),\n",
        "        nn.ReLU(),\n",
        "        nn.MaxPool2d(kernel_size=2)\n",
        "    )\n",
        "    self.conv_block_2 = nn.Sequential(\n",
        "        nn.Conv2d(in_channels=hidden_units,\n",
        "                  out_channels=hidden_units,\n",
        "                  kernel_size=3,\n",
        "                  stride=1,\n",
        "                  padding=1),\n",
        "        nn.ReLU(),\n",
        "        nn.Conv2d(in_channels=hidden_units,\n",
        "                  out_channels=hidden_units,\n",
        "                  kernel_size=3,\n",
        "                  stride=1,\n",
        "                  padding=1),\n",
        "        nn.ReLU(),\n",
        "        nn.MaxPool2d(kernel_size=2)\n",
        "    )\n",
        "    self.classifier = nn.Sequential(\n",
        "        nn.Flatten(),\n",
        "        nn.Linear(in_features=hidden_units*7*7, # there's a trick to calculating this...\n",
        "                  out_features=output_shape)\n",
        "    )\n",
        "\n",
        "  def forward(self, x):\n",
        "    x = self.conv_block_1(x)\n",
        "    # print(f\"Output shape of conv_block_1: {x.shape}\")\n",
        "    x = self.conv_block_2(x)\n",
        "    # print(f\"Output shape of conv_block_2: {x.shape}\")\n",
        "    x = self.classifier(x)\n",
        "    # print(f\"Output shape of classifier: {x.shape}\")\n",
        "    return x"
      ],
      "metadata": {
        "id": "5IKNF22XbKYS"
      },
      "execution_count": 20,
      "outputs": []
    },
    {
      "cell_type": "code",
      "source": [
        "device"
      ],
      "metadata": {
        "colab": {
          "base_uri": "https://localhost:8080/",
          "height": 36
        },
        "id": "H9CrqwTjPlI-",
        "outputId": "6a7606b3-1c98-4c80-d420-0572c72488b5"
      },
      "execution_count": 21,
      "outputs": [
        {
          "output_type": "execute_result",
          "data": {
            "text/plain": [
              "'cuda'"
            ],
            "application/vnd.google.colaboratory.intrinsic+json": {
              "type": "string"
            }
          },
          "metadata": {},
          "execution_count": 21
        }
      ]
    },
    {
      "cell_type": "code",
      "source": [
        "model = HandwrittenDigitsMNISTModel(input_shape=1,\n",
        "                    hidden_units=10,\n",
        "                    output_shape=10).to(device)\n",
        "model"
      ],
      "metadata": {
        "colab": {
          "base_uri": "https://localhost:8080/"
        },
        "id": "2FCteFNdPnob",
        "outputId": "bea7ebda-8ed9-420a-949c-41f35a205fbe"
      },
      "execution_count": 22,
      "outputs": [
        {
          "output_type": "execute_result",
          "data": {
            "text/plain": [
              "HandwrittenDigitsMNISTModel(\n",
              "  (conv_block_1): Sequential(\n",
              "    (0): Conv2d(1, 10, kernel_size=(3, 3), stride=(1, 1), padding=(1, 1))\n",
              "    (1): ReLU()\n",
              "    (2): Conv2d(10, 10, kernel_size=(3, 3), stride=(1, 1), padding=(1, 1))\n",
              "    (3): ReLU()\n",
              "    (4): MaxPool2d(kernel_size=2, stride=2, padding=0, dilation=1, ceil_mode=False)\n",
              "  )\n",
              "  (conv_block_2): Sequential(\n",
              "    (0): Conv2d(10, 10, kernel_size=(3, 3), stride=(1, 1), padding=(1, 1))\n",
              "    (1): ReLU()\n",
              "    (2): Conv2d(10, 10, kernel_size=(3, 3), stride=(1, 1), padding=(1, 1))\n",
              "    (3): ReLU()\n",
              "    (4): MaxPool2d(kernel_size=2, stride=2, padding=0, dilation=1, ceil_mode=False)\n",
              "  )\n",
              "  (classifier): Sequential(\n",
              "    (0): Flatten(start_dim=1, end_dim=-1)\n",
              "    (1): Linear(in_features=490, out_features=10, bias=True)\n",
              "  )\n",
              ")"
            ]
          },
          "metadata": {},
          "execution_count": 22
        }
      ]
    },
    {
      "cell_type": "code",
      "source": [
        "model.state_dict()"
      ],
      "metadata": {
        "colab": {
          "base_uri": "https://localhost:8080/"
        },
        "id": "N2CFvCFtPw1G",
        "outputId": "e9514a16-fe23-4ebb-bdc0-b0c434691b1a"
      },
      "execution_count": 23,
      "outputs": [
        {
          "output_type": "execute_result",
          "data": {
            "text/plain": [
              "OrderedDict([('conv_block_1.0.weight',\n",
              "              tensor([[[[-0.2018,  0.0554,  0.0611],\n",
              "                        [ 0.1699,  0.0985,  0.2683],\n",
              "                        [ 0.1709, -0.3080,  0.2237]]],\n",
              "              \n",
              "              \n",
              "                      [[[ 0.0538, -0.0502,  0.2433],\n",
              "                        [-0.0371,  0.1519,  0.1139],\n",
              "                        [-0.1318, -0.2061, -0.2455]]],\n",
              "              \n",
              "              \n",
              "                      [[[ 0.2218,  0.2519, -0.0215],\n",
              "                        [-0.1944, -0.0741, -0.0653],\n",
              "                        [-0.3091,  0.2322,  0.1882]]],\n",
              "              \n",
              "              \n",
              "                      [[[ 0.0344,  0.2528, -0.2910],\n",
              "                        [ 0.1995,  0.1099,  0.0559],\n",
              "                        [ 0.3170, -0.0913, -0.2059]]],\n",
              "              \n",
              "              \n",
              "                      [[[-0.2513,  0.2058, -0.2460],\n",
              "                        [ 0.0791,  0.3159, -0.3240],\n",
              "                        [ 0.2704, -0.0879, -0.1332]]],\n",
              "              \n",
              "              \n",
              "                      [[[-0.1756,  0.2454, -0.1796],\n",
              "                        [-0.0396, -0.2167,  0.2433],\n",
              "                        [-0.0668,  0.1154, -0.1938]]],\n",
              "              \n",
              "              \n",
              "                      [[[ 0.3192,  0.1344, -0.0518],\n",
              "                        [ 0.2989, -0.0458,  0.0926],\n",
              "                        [-0.2320, -0.1043,  0.2097]]],\n",
              "              \n",
              "              \n",
              "                      [[[-0.1447, -0.0694, -0.2016],\n",
              "                        [ 0.1715,  0.3049,  0.2781],\n",
              "                        [-0.1574,  0.0789, -0.1056]]],\n",
              "              \n",
              "              \n",
              "                      [[[-0.1210,  0.1442,  0.1394],\n",
              "                        [-0.2928,  0.1113,  0.0547],\n",
              "                        [-0.1890,  0.1146, -0.1126]]],\n",
              "              \n",
              "              \n",
              "                      [[[-0.1568, -0.1271,  0.3240],\n",
              "                        [ 0.2830,  0.0266, -0.1851],\n",
              "                        [ 0.1199, -0.2877, -0.0360]]]], device='cuda:0')),\n",
              "             ('conv_block_1.0.bias',\n",
              "              tensor([-0.1812, -0.2583,  0.2075, -0.0629, -0.1295, -0.1892,  0.1343, -0.0727,\n",
              "                       0.0341, -0.0648], device='cuda:0')),\n",
              "             ('conv_block_1.2.weight',\n",
              "              tensor([[[[ 9.1090e-02,  3.2264e-02,  7.0026e-02],\n",
              "                        [ 3.1813e-02, -8.0720e-03, -2.5385e-02],\n",
              "                        [ 3.4328e-02, -2.1169e-02,  9.7304e-02]],\n",
              "              \n",
              "                       [[-9.8359e-02,  1.0902e-02,  6.5430e-02],\n",
              "                        [ 3.0476e-02, -2.0759e-02, -3.8463e-02],\n",
              "                        [ 7.8727e-03,  1.2925e-02, -7.6028e-03]],\n",
              "              \n",
              "                       [[ 1.0194e-01,  2.7838e-02, -1.0479e-01],\n",
              "                        [-4.5325e-02, -1.0276e-01,  8.5454e-02],\n",
              "                        [ 4.4963e-02,  5.9705e-02, -4.7443e-02]],\n",
              "              \n",
              "                       [[ 1.0162e-01, -4.2399e-03,  6.6991e-02],\n",
              "                        [-2.2958e-02, -4.5190e-02, -6.4036e-02],\n",
              "                        [-6.8967e-02,  1.3050e-02, -4.3941e-03]],\n",
              "              \n",
              "                       [[ 5.9102e-02,  3.4190e-02,  7.6259e-02],\n",
              "                        [-6.4451e-02, -9.2959e-02,  5.8059e-02],\n",
              "                        [-1.5576e-02, -3.5810e-02,  6.0830e-02]],\n",
              "              \n",
              "                       [[ 3.1438e-02, -3.7139e-02, -1.9385e-02],\n",
              "                        [ 2.3622e-02,  9.1690e-02, -1.0495e-02],\n",
              "                        [-1.9725e-02, -8.2529e-02,  9.6393e-02]],\n",
              "              \n",
              "                       [[ 7.4344e-02,  7.7674e-02, -6.4985e-02],\n",
              "                        [-4.6215e-02, -4.0112e-02, -8.7722e-02],\n",
              "                        [-9.3868e-02,  9.3091e-02,  1.3446e-02]],\n",
              "              \n",
              "                       [[ 1.0338e-01, -8.6168e-02,  6.3128e-02],\n",
              "                        [-4.1020e-02, -9.5380e-02,  9.0289e-02],\n",
              "                        [-5.2661e-03, -6.8770e-02, -7.9400e-02]],\n",
              "              \n",
              "                       [[-8.8437e-02, -7.3954e-02, -9.7019e-02],\n",
              "                        [-7.7622e-02, -2.6020e-02,  5.3543e-03],\n",
              "                        [-2.0832e-02, -4.4780e-02, -4.1736e-02]],\n",
              "              \n",
              "                       [[-5.0699e-02, -8.6490e-02,  1.8762e-02],\n",
              "                        [ 3.8768e-02, -1.1252e-02, -8.2159e-02],\n",
              "                        [-5.5617e-02,  3.5747e-03,  4.6195e-02]]],\n",
              "              \n",
              "              \n",
              "                      [[[-9.5682e-02,  1.9877e-02,  1.0518e-02],\n",
              "                        [ 7.6559e-02,  3.1424e-02, -5.9937e-02],\n",
              "                        [ 6.8171e-02,  1.7413e-02,  3.0359e-02]],\n",
              "              \n",
              "                       [[ 9.8138e-02,  7.3652e-02,  2.3333e-02],\n",
              "                        [-7.5700e-02,  6.7774e-02, -8.5726e-02],\n",
              "                        [ 6.7839e-02,  6.1896e-02, -6.5066e-02]],\n",
              "              \n",
              "                       [[-4.4511e-02, -3.2852e-02, -2.8215e-02],\n",
              "                        [ 9.4992e-03,  1.0018e-01,  7.6953e-02],\n",
              "                        [ 1.8010e-02,  7.7437e-02, -5.7888e-02]],\n",
              "              \n",
              "                       [[ 5.9826e-02,  4.0453e-02, -1.7513e-02],\n",
              "                        [ 1.0992e-02, -1.0239e-01,  9.8147e-02],\n",
              "                        [ 6.3592e-02,  4.0875e-02, -5.7050e-02]],\n",
              "              \n",
              "                       [[-3.5151e-02,  8.6599e-02,  6.9352e-02],\n",
              "                        [-7.3812e-03,  2.9871e-02,  7.8718e-02],\n",
              "                        [ 2.7104e-03, -7.5102e-02, -2.3180e-03]],\n",
              "              \n",
              "                       [[ 1.4683e-02,  8.1000e-04, -6.8828e-02],\n",
              "                        [-8.2576e-03, -4.9701e-02,  8.5603e-02],\n",
              "                        [ 8.9693e-02, -9.4996e-02,  5.8814e-02]],\n",
              "              \n",
              "                       [[-4.2702e-02,  8.0439e-02, -8.3387e-02],\n",
              "                        [ 3.0000e-02,  2.0537e-03, -2.2509e-02],\n",
              "                        [-2.4150e-02,  1.5567e-02,  5.9781e-02]],\n",
              "              \n",
              "                       [[-3.7870e-02, -8.3011e-02,  7.7961e-02],\n",
              "                        [ 7.3109e-02,  8.9525e-02,  9.3033e-02],\n",
              "                        [-9.2536e-02,  1.1844e-02, -6.2104e-02]],\n",
              "              \n",
              "                       [[ 8.6450e-02,  3.0735e-02,  6.9599e-03],\n",
              "                        [ 1.4930e-03, -4.8202e-02, -1.7887e-03],\n",
              "                        [-8.4273e-02,  1.5080e-02,  4.4918e-02]],\n",
              "              \n",
              "                       [[ 1.0448e-01,  3.1355e-02, -8.0723e-02],\n",
              "                        [-5.6793e-02,  3.0673e-02,  6.3169e-02],\n",
              "                        [-3.8743e-02, -7.6469e-02, -6.6189e-02]]],\n",
              "              \n",
              "              \n",
              "                      [[[ 5.1897e-02,  2.4733e-03,  1.0325e-01],\n",
              "                        [ 1.0247e-01,  4.2380e-02,  1.0119e-02],\n",
              "                        [ 9.8919e-02,  2.2246e-03,  2.8893e-02]],\n",
              "              \n",
              "                       [[-8.7768e-02, -9.0672e-02, -9.5113e-02],\n",
              "                        [ 9.0488e-02, -2.6217e-02, -1.3817e-02],\n",
              "                        [-3.0184e-02,  9.1493e-02,  1.6536e-03]],\n",
              "              \n",
              "                       [[ 2.5153e-02,  4.4053e-02,  7.9935e-02],\n",
              "                        [ 3.5419e-02,  6.4583e-02,  4.6121e-02],\n",
              "                        [ 2.6373e-02,  2.7814e-02, -4.5609e-02]],\n",
              "              \n",
              "                       [[-7.8205e-02, -2.0550e-02, -8.2898e-02],\n",
              "                        [ 2.6510e-02, -5.8031e-02,  8.7044e-02],\n",
              "                        [ 9.1077e-02,  8.2004e-02, -6.1489e-02]],\n",
              "              \n",
              "                       [[ 9.0907e-02, -1.0198e-01,  3.3147e-02],\n",
              "                        [-8.2581e-02, -5.8768e-02,  6.3078e-02],\n",
              "                        [ 8.7449e-02, -6.6137e-02, -3.7010e-02]],\n",
              "              \n",
              "                       [[-8.4087e-02,  2.4506e-02,  3.6720e-02],\n",
              "                        [-2.7232e-02,  4.2238e-02,  9.5769e-02],\n",
              "                        [ 6.1872e-02, -2.1407e-02, -6.6933e-02]],\n",
              "              \n",
              "                       [[-8.3506e-02,  6.0595e-02,  5.8104e-02],\n",
              "                        [ 9.7758e-02, -8.0280e-02, -2.0418e-02],\n",
              "                        [ 7.2118e-02, -8.7805e-02, -4.2514e-03]],\n",
              "              \n",
              "                       [[-5.8061e-02, -4.9664e-02, -9.3850e-02],\n",
              "                        [-8.9951e-02, -9.3623e-02,  6.4738e-03],\n",
              "                        [-7.4917e-02,  7.3818e-02,  3.1684e-02]],\n",
              "              \n",
              "                       [[-5.0196e-02, -1.6330e-02, -9.2641e-02],\n",
              "                        [ 3.2198e-02,  1.0350e-02,  6.1229e-02],\n",
              "                        [ 8.0727e-02, -4.6769e-02,  1.0093e-01]],\n",
              "              \n",
              "                       [[ 4.4106e-02,  3.4047e-02,  6.4309e-02],\n",
              "                        [-1.3227e-02,  1.6285e-02,  2.6642e-02],\n",
              "                        [-5.4100e-02, -3.7676e-02,  6.1454e-02]]],\n",
              "              \n",
              "              \n",
              "                      [[[ 1.2243e-02,  5.7454e-02,  8.6814e-02],\n",
              "                        [-1.0274e-01, -5.9763e-02, -3.5140e-02],\n",
              "                        [ 7.2883e-02, -1.3927e-02, -5.2551e-02]],\n",
              "              \n",
              "                       [[ 7.1580e-02,  9.9669e-02,  4.8289e-02],\n",
              "                        [-4.5601e-02,  4.6682e-02,  7.9483e-02],\n",
              "                        [ 8.7934e-02,  1.0435e-01,  1.0168e-02]],\n",
              "              \n",
              "                       [[ 1.0419e-01,  2.3347e-02, -2.0156e-02],\n",
              "                        [ 1.3398e-02, -9.4118e-02,  7.1829e-02],\n",
              "                        [ 6.0499e-02, -4.3598e-02, -9.5849e-03]],\n",
              "              \n",
              "                       [[-8.0877e-02, -3.2349e-02, -9.7369e-02],\n",
              "                        [ 8.6261e-02,  8.7494e-02, -8.6426e-02],\n",
              "                        [ 5.7140e-02, -7.6879e-02,  1.4634e-03]],\n",
              "              \n",
              "                       [[-6.1684e-02, -6.2326e-02, -9.7165e-02],\n",
              "                        [ 5.5789e-02, -2.3745e-02, -2.7313e-02],\n",
              "                        [ 3.0260e-02,  5.2807e-02, -5.5095e-02]],\n",
              "              \n",
              "                       [[-1.6861e-02,  6.0616e-02, -9.8983e-02],\n",
              "                        [-8.1795e-02,  3.3782e-02,  1.8727e-02],\n",
              "                        [-4.9056e-02,  6.0914e-02, -8.3985e-02]],\n",
              "              \n",
              "                       [[-6.4788e-02, -6.8284e-02,  1.3216e-02],\n",
              "                        [-6.3250e-02, -3.8525e-02,  9.5178e-02],\n",
              "                        [-9.8504e-02, -5.0216e-03, -7.0399e-02]],\n",
              "              \n",
              "                       [[ 3.1478e-02,  1.0118e-01,  1.3637e-02],\n",
              "                        [-8.1944e-03, -5.1108e-02, -7.3020e-02],\n",
              "                        [-4.1049e-02, -6.6911e-02,  3.4532e-02]],\n",
              "              \n",
              "                       [[ 6.3191e-02,  7.3118e-02, -6.7048e-02],\n",
              "                        [ 9.6393e-02,  1.0129e-01,  2.7174e-02],\n",
              "                        [ 7.4093e-02,  2.8916e-02, -8.7036e-03]],\n",
              "              \n",
              "                       [[-9.8302e-02,  9.6483e-02,  3.4202e-02],\n",
              "                        [-5.8351e-02, -3.1836e-02, -3.3400e-02],\n",
              "                        [ 7.6849e-02, -6.1467e-02, -6.3050e-02]]],\n",
              "              \n",
              "              \n",
              "                      [[[-5.3803e-02, -1.2995e-02,  9.4806e-02],\n",
              "                        [-8.7979e-03,  3.7433e-02, -4.6504e-03],\n",
              "                        [ 7.2038e-03,  7.7194e-03,  1.0311e-01]],\n",
              "              \n",
              "                       [[ 9.7631e-02, -4.0068e-02, -8.5512e-02],\n",
              "                        [ 6.1080e-02, -1.0046e-01, -3.3643e-02],\n",
              "                        [-4.3724e-02,  6.0039e-02, -2.3677e-02]],\n",
              "              \n",
              "                       [[-8.3504e-02,  8.5847e-02,  4.1991e-02],\n",
              "                        [ 7.1154e-02, -1.2655e-02, -3.0332e-02],\n",
              "                        [-6.7514e-02,  2.5697e-02, -6.4234e-02]],\n",
              "              \n",
              "                       [[ 2.6195e-02, -3.6836e-02,  3.9527e-02],\n",
              "                        [ 4.7653e-02,  7.3136e-02,  8.2801e-02],\n",
              "                        [-1.0808e-02,  1.2556e-02, -8.7938e-03]],\n",
              "              \n",
              "                       [[-2.1632e-02, -8.8741e-02,  1.1555e-02],\n",
              "                        [ 9.8372e-02, -2.9947e-02, -5.5218e-02],\n",
              "                        [-2.0274e-02,  3.2181e-02, -4.2249e-02]],\n",
              "              \n",
              "                       [[-7.8174e-02,  7.8900e-02, -5.7183e-02],\n",
              "                        [-6.2321e-02,  2.6821e-02,  9.5725e-02],\n",
              "                        [-5.4434e-02, -9.6740e-02,  4.6382e-03]],\n",
              "              \n",
              "                       [[-3.8262e-02,  4.2050e-02, -8.2461e-02],\n",
              "                        [-3.9250e-02,  1.6489e-02,  5.6355e-02],\n",
              "                        [ 3.3899e-02,  7.6176e-03, -8.6303e-02]],\n",
              "              \n",
              "                       [[-1.3772e-02,  9.9579e-02,  7.1503e-02],\n",
              "                        [ 6.8598e-02,  8.7498e-04,  3.0902e-02],\n",
              "                        [-9.5942e-03,  1.0682e-02, -1.1604e-02]],\n",
              "              \n",
              "                       [[-2.4291e-02, -9.1886e-02,  5.9019e-03],\n",
              "                        [-2.0447e-02,  6.1008e-03, -3.8889e-02],\n",
              "                        [ 3.5248e-02,  8.2843e-02, -9.2060e-02]],\n",
              "              \n",
              "                       [[-3.6673e-02,  4.6817e-03,  6.8203e-02],\n",
              "                        [ 8.1951e-02, -7.9416e-03, -1.7283e-02],\n",
              "                        [-6.8269e-02, -8.8471e-03,  3.7304e-02]]],\n",
              "              \n",
              "              \n",
              "                      [[[-8.6187e-02,  1.0530e-01,  9.9912e-02],\n",
              "                        [ 2.1541e-04, -8.3749e-02, -9.5255e-02],\n",
              "                        [ 1.6939e-02,  9.4949e-02,  3.0735e-02]],\n",
              "              \n",
              "                       [[-8.1702e-02,  2.0230e-02, -5.7542e-02],\n",
              "                        [-7.6715e-04,  3.8248e-02, -1.0538e-01],\n",
              "                        [-5.7449e-02,  3.9060e-02,  2.5818e-02]],\n",
              "              \n",
              "                       [[ 7.1474e-02, -6.3936e-02,  2.8446e-02],\n",
              "                        [ 5.5624e-02,  4.3132e-02,  1.0333e-01],\n",
              "                        [ 2.2262e-02,  7.3229e-03, -7.1695e-02]],\n",
              "              \n",
              "                       [[-7.7460e-03, -5.5128e-02, -8.4241e-02],\n",
              "                        [ 7.5774e-02, -1.5865e-02, -7.0771e-02],\n",
              "                        [-2.9391e-02,  9.2127e-02,  6.5193e-02]],\n",
              "              \n",
              "                       [[-9.3209e-02,  2.6273e-02, -5.2182e-02],\n",
              "                        [ 5.0661e-02,  3.5332e-02,  1.7449e-02],\n",
              "                        [-4.0798e-02, -5.9571e-02,  2.4680e-02]],\n",
              "              \n",
              "                       [[-5.5914e-02,  2.3284e-02,  8.5498e-02],\n",
              "                        [ 5.2025e-02,  8.3614e-02, -1.5095e-02],\n",
              "                        [-8.8156e-03,  7.0727e-02, -3.9153e-02]],\n",
              "              \n",
              "                       [[-5.1382e-02,  3.0087e-02,  2.8818e-02],\n",
              "                        [ 2.9827e-02,  1.3087e-02, -5.3329e-02],\n",
              "                        [-5.2469e-02, -7.1128e-02,  5.6386e-02]],\n",
              "              \n",
              "                       [[-2.5757e-02,  6.2828e-02,  3.5741e-02],\n",
              "                        [-6.0641e-02, -5.5307e-02,  9.7481e-02],\n",
              "                        [-9.1920e-02,  3.0751e-03,  2.6744e-02]],\n",
              "              \n",
              "                       [[ 3.1580e-02, -4.9230e-02, -4.7519e-02],\n",
              "                        [-2.9622e-02, -2.7238e-02, -9.3501e-02],\n",
              "                        [ 1.0522e-01,  6.5744e-02, -1.4725e-02]],\n",
              "              \n",
              "                       [[ 4.2262e-02,  6.2197e-02,  4.2179e-02],\n",
              "                        [-1.3783e-02,  7.7865e-02, -1.6592e-02],\n",
              "                        [-1.8354e-02,  3.2308e-02, -5.9423e-02]]],\n",
              "              \n",
              "              \n",
              "                      [[[ 5.0869e-02,  8.6025e-02, -4.8232e-02],\n",
              "                        [ 3.7795e-02,  4.8612e-02,  1.0222e-01],\n",
              "                        [-3.6646e-02, -5.9307e-02, -4.5131e-02]],\n",
              "              \n",
              "                       [[-1.3675e-02, -2.7007e-02, -1.9438e-02],\n",
              "                        [-6.1607e-02,  7.1393e-02,  4.5179e-02],\n",
              "                        [ 1.0810e-02, -8.4004e-02,  8.4331e-02]],\n",
              "              \n",
              "                       [[ 9.4007e-02,  3.4630e-02,  1.2209e-02],\n",
              "                        [-6.3582e-02, -5.4696e-02,  1.0266e-01],\n",
              "                        [ 5.6087e-02,  4.1365e-02, -8.9275e-02]],\n",
              "              \n",
              "                       [[-3.5844e-02, -9.6563e-03,  1.6642e-04],\n",
              "                        [ 3.0859e-02, -6.1501e-02, -5.9741e-02],\n",
              "                        [ 1.4622e-02, -4.1519e-02, -9.1041e-02]],\n",
              "              \n",
              "                       [[ 8.1233e-02,  9.1355e-03,  3.0374e-02],\n",
              "                        [-5.1615e-02,  4.3366e-03, -1.0650e-03],\n",
              "                        [-7.3989e-02,  9.8997e-02, -2.9738e-02]],\n",
              "              \n",
              "                       [[ 4.7859e-02,  6.2578e-02,  9.8341e-02],\n",
              "                        [-7.8759e-02,  1.1501e-02, -1.2882e-02],\n",
              "                        [-3.6175e-02,  8.2077e-02, -9.9331e-02]],\n",
              "              \n",
              "                       [[-1.6141e-02, -5.9392e-02, -9.4713e-02],\n",
              "                        [ 8.0094e-02, -7.2926e-02,  6.7724e-02],\n",
              "                        [ 3.3463e-02,  3.5315e-02, -8.7551e-02]],\n",
              "              \n",
              "                       [[ 2.0022e-03,  7.3243e-02,  3.2028e-02],\n",
              "                        [ 8.2759e-02,  6.1466e-02, -3.9824e-02],\n",
              "                        [-6.3242e-02,  4.5301e-02,  6.7610e-02]],\n",
              "              \n",
              "                       [[-3.2158e-02, -2.0776e-02,  8.3977e-02],\n",
              "                        [-9.4772e-02,  7.5949e-02,  9.5773e-02],\n",
              "                        [-4.9444e-02, -2.1820e-02,  1.0880e-02]],\n",
              "              \n",
              "                       [[ 9.5697e-02, -5.7018e-02, -2.6231e-02],\n",
              "                        [ 1.7065e-02, -1.0534e-01, -8.3715e-02],\n",
              "                        [ 8.2468e-02,  1.3347e-02, -1.5704e-02]]],\n",
              "              \n",
              "              \n",
              "                      [[[ 3.4603e-02,  1.1241e-03,  7.4243e-03],\n",
              "                        [-6.5017e-02, -1.3974e-02,  6.7884e-02],\n",
              "                        [ 8.7525e-02, -8.1725e-02,  1.6854e-02]],\n",
              "              \n",
              "                       [[ 4.1172e-02,  6.9231e-04,  3.6168e-02],\n",
              "                        [ 4.0479e-03,  6.5686e-02,  1.7445e-02],\n",
              "                        [-4.3164e-02, -9.9405e-02,  8.3474e-02]],\n",
              "              \n",
              "                       [[-6.8562e-03,  8.1063e-02,  5.9684e-03],\n",
              "                        [ 8.8314e-02, -4.6170e-02,  2.5360e-02],\n",
              "                        [-6.4175e-02,  3.4105e-02,  3.6081e-02]],\n",
              "              \n",
              "                       [[ 6.5613e-02, -8.6203e-02,  9.6051e-02],\n",
              "                        [-9.3880e-02,  1.0199e-01,  3.8754e-02],\n",
              "                        [-8.2518e-02, -1.0423e-01, -5.3506e-02]],\n",
              "              \n",
              "                       [[ 6.3027e-02, -5.5820e-04,  1.9247e-02],\n",
              "                        [-1.9301e-02,  1.4776e-02, -8.1157e-02],\n",
              "                        [ 1.2662e-02, -1.5150e-02, -5.1637e-02]],\n",
              "              \n",
              "                       [[-9.2031e-02,  2.9823e-02, -1.0240e-01],\n",
              "                        [-8.8270e-02,  1.0439e-01,  7.4101e-02],\n",
              "                        [-4.6284e-02,  1.1798e-02,  7.3092e-03]],\n",
              "              \n",
              "                       [[-8.5329e-02,  8.1023e-02,  6.3690e-02],\n",
              "                        [-2.0510e-02, -7.4569e-02,  2.4817e-02],\n",
              "                        [ 3.9236e-02, -8.2874e-02,  3.0998e-02]],\n",
              "              \n",
              "                       [[ 4.3358e-02, -3.9913e-03,  7.6490e-02],\n",
              "                        [-7.0279e-02, -2.7886e-02, -9.6410e-02],\n",
              "                        [-3.8725e-02,  9.2033e-02, -4.2346e-02]],\n",
              "              \n",
              "                       [[ 5.2331e-02,  3.4199e-02,  4.6512e-02],\n",
              "                        [-1.8346e-02, -9.8447e-02, -9.6471e-02],\n",
              "                        [-8.6901e-02,  5.9579e-02,  3.9318e-02]],\n",
              "              \n",
              "                       [[-2.0116e-02,  7.9062e-02,  1.1076e-02],\n",
              "                        [-3.3181e-03,  3.1689e-02,  7.1540e-02],\n",
              "                        [-1.4258e-02, -2.2770e-02,  6.5269e-02]]],\n",
              "              \n",
              "              \n",
              "                      [[[ 1.0104e-01,  3.0250e-02, -1.0375e-01],\n",
              "                        [ 2.9014e-05,  9.7400e-02,  7.5244e-02],\n",
              "                        [-3.7277e-02, -7.4547e-02,  2.8446e-03]],\n",
              "              \n",
              "                       [[ 2.8762e-02, -6.3640e-02,  7.9089e-02],\n",
              "                        [-6.7940e-02,  9.9218e-02,  3.5761e-02],\n",
              "                        [ 8.1750e-02,  8.1965e-02,  7.4674e-02]],\n",
              "              \n",
              "                       [[-3.7119e-02, -8.7549e-02, -6.4086e-02],\n",
              "                        [-1.0188e-01, -6.0425e-02, -8.2441e-02],\n",
              "                        [-8.4617e-02, -5.7831e-02,  8.9242e-02]],\n",
              "              \n",
              "                       [[ 5.8072e-02, -3.5859e-02,  8.9444e-02],\n",
              "                        [-2.4598e-02,  3.8972e-02,  6.1149e-02],\n",
              "                        [ 4.8994e-02,  5.7215e-02, -2.1570e-02]],\n",
              "              \n",
              "                       [[-1.4983e-02,  6.3825e-02,  8.2332e-02],\n",
              "                        [-8.9909e-02,  5.5482e-02,  9.9598e-02],\n",
              "                        [-4.3585e-03, -2.4867e-02, -8.2138e-02]],\n",
              "              \n",
              "                       [[ 8.6669e-02,  3.2441e-02,  1.9133e-02],\n",
              "                        [-5.5543e-03, -5.4183e-02, -1.0297e-01],\n",
              "                        [-7.0722e-02, -4.5184e-02, -4.3797e-02]],\n",
              "              \n",
              "                       [[-7.2099e-02, -5.4860e-02, -1.1400e-02],\n",
              "                        [-3.7070e-02, -5.3271e-02,  7.3600e-02],\n",
              "                        [-7.8835e-02, -7.0110e-03,  7.7164e-02]],\n",
              "              \n",
              "                       [[-7.5547e-02, -8.1403e-02,  1.0512e-01],\n",
              "                        [-8.3313e-02,  4.0215e-03,  7.9698e-02],\n",
              "                        [ 3.6446e-02,  5.7532e-02,  2.2084e-02]],\n",
              "              \n",
              "                       [[-2.4784e-02,  3.8760e-02, -9.2032e-02],\n",
              "                        [-8.9350e-02,  3.3372e-02,  1.0383e-01],\n",
              "                        [-4.6322e-02, -5.7308e-02,  9.1182e-02]],\n",
              "              \n",
              "                       [[ 7.6809e-02,  5.2051e-02, -9.3938e-02],\n",
              "                        [-9.3156e-02,  8.1143e-02,  1.0266e-01],\n",
              "                        [-6.6563e-02, -6.2522e-02,  1.6400e-02]]],\n",
              "              \n",
              "              \n",
              "                      [[[-3.9255e-02,  4.4977e-02,  1.8733e-02],\n",
              "                        [-7.2096e-02, -2.2898e-03, -3.3943e-02],\n",
              "                        [-4.3247e-02,  2.2953e-02, -6.8102e-02]],\n",
              "              \n",
              "                       [[-6.6781e-02,  4.2300e-04,  9.0671e-02],\n",
              "                        [ 6.8066e-02,  7.4273e-02,  1.6922e-02],\n",
              "                        [ 9.2847e-02, -6.3664e-02, -3.8947e-02]],\n",
              "              \n",
              "                       [[-2.5765e-02, -7.1686e-02, -4.4295e-02],\n",
              "                        [-1.0309e-01, -1.0529e-01, -3.6510e-02],\n",
              "                        [ 5.6005e-02,  6.5990e-02,  7.1632e-03]],\n",
              "              \n",
              "                       [[ 8.1650e-02, -6.1070e-02, -5.7931e-02],\n",
              "                        [-3.0051e-02,  1.0334e-02,  6.5605e-02],\n",
              "                        [-2.6295e-02,  9.0951e-02,  4.3801e-03]],\n",
              "              \n",
              "                       [[-3.7941e-02,  5.6995e-02,  3.5572e-02],\n",
              "                        [-3.8711e-02, -3.3387e-02, -4.3718e-03],\n",
              "                        [-3.0498e-02, -3.8740e-02,  2.0236e-02]],\n",
              "              \n",
              "                       [[-6.2045e-02, -3.7390e-02, -1.8010e-02],\n",
              "                        [ 8.6483e-02,  7.3961e-02, -5.6811e-02],\n",
              "                        [ 4.0205e-02,  6.3656e-02,  1.3093e-02]],\n",
              "              \n",
              "                       [[ 6.8935e-02,  6.7352e-02, -5.1952e-02],\n",
              "                        [-7.3833e-02,  9.5581e-02, -1.6494e-02],\n",
              "                        [ 1.9422e-04, -9.4475e-02, -4.7974e-02]],\n",
              "              \n",
              "                       [[-9.2966e-02,  2.8012e-02,  5.6674e-02],\n",
              "                        [-7.2447e-02,  5.6430e-02, -8.5084e-02],\n",
              "                        [-8.1287e-02, -6.7937e-02, -3.4406e-02]],\n",
              "              \n",
              "                       [[ 3.4681e-02, -7.5586e-02,  1.7649e-02],\n",
              "                        [ 6.3886e-02, -9.0926e-02, -1.1692e-02],\n",
              "                        [-9.1050e-02,  1.5478e-02,  6.7570e-02]],\n",
              "              \n",
              "                       [[-5.7765e-02, -6.6497e-03, -3.7452e-02],\n",
              "                        [-5.7951e-03, -4.8338e-02, -8.1921e-02],\n",
              "                        [ 1.0152e-01, -8.9965e-02,  1.1987e-02]]]], device='cuda:0')),\n",
              "             ('conv_block_1.2.bias',\n",
              "              tensor([-0.0856,  0.0452,  0.0650,  0.0027,  0.0231, -0.0697,  0.0179,  0.0145,\n",
              "                      -0.0704, -0.0986], device='cuda:0')),\n",
              "             ('conv_block_2.0.weight',\n",
              "              tensor([[[[-0.0121, -0.0007,  0.0397],\n",
              "                        [-0.0736, -0.0252,  0.0364],\n",
              "                        [ 0.0407, -0.0294, -0.0643]],\n",
              "              \n",
              "                       [[ 0.0429, -0.0664, -0.0247],\n",
              "                        [-0.0758,  0.0308,  0.0887],\n",
              "                        [-0.0425, -0.0041, -0.0800]],\n",
              "              \n",
              "                       [[ 0.0382, -0.0503, -0.0039],\n",
              "                        [ 0.0387, -0.0961, -0.0096],\n",
              "                        [ 0.0997,  0.0063, -0.0244]],\n",
              "              \n",
              "                       [[-0.0718,  0.0107, -0.0397],\n",
              "                        [-0.0180, -0.0234, -0.0066],\n",
              "                        [ 0.0773, -0.0003, -0.0068]],\n",
              "              \n",
              "                       [[ 0.0302, -0.0516, -0.0142],\n",
              "                        [ 0.0933,  0.0033,  0.0456],\n",
              "                        [-0.0900, -0.0787, -0.1025]],\n",
              "              \n",
              "                       [[-0.0805, -0.0932, -0.0567],\n",
              "                        [ 0.0468,  0.0283, -0.0600],\n",
              "                        [-0.0235,  0.0427, -0.0019]],\n",
              "              \n",
              "                       [[ 0.0592, -0.0844,  0.0550],\n",
              "                        [ 0.0023, -0.0175,  0.0259],\n",
              "                        [ 0.0662,  0.0865, -0.0852]],\n",
              "              \n",
              "                       [[-0.0803,  0.0486, -0.0937],\n",
              "                        [ 0.0208,  0.0954,  0.0410],\n",
              "                        [ 0.0580,  0.0433,  0.0929]],\n",
              "              \n",
              "                       [[ 0.0177,  0.1022, -0.0700],\n",
              "                        [-0.0366,  0.1039, -0.0538],\n",
              "                        [ 0.0725, -0.0247,  0.0566]],\n",
              "              \n",
              "                       [[ 0.0348,  0.0219,  0.0482],\n",
              "                        [-0.0831, -0.1044,  0.0816],\n",
              "                        [ 0.0702,  0.0261, -0.0015]]],\n",
              "              \n",
              "              \n",
              "                      [[[ 0.0152,  0.0502, -0.0511],\n",
              "                        [-0.0926,  0.0960,  0.0969],\n",
              "                        [ 0.0575,  0.0237, -0.0749]],\n",
              "              \n",
              "                       [[-0.1028,  0.0781,  0.0563],\n",
              "                        [-0.0193, -0.0086, -0.0887],\n",
              "                        [ 0.0813, -0.0811, -0.0259]],\n",
              "              \n",
              "                       [[ 0.0275, -0.1048, -0.0060],\n",
              "                        [-0.0231, -0.0931, -0.0362],\n",
              "                        [ 0.0721, -0.0582,  0.0733]],\n",
              "              \n",
              "                       [[-0.0136,  0.0816,  0.0729],\n",
              "                        [ 0.0707,  0.0052,  0.0233],\n",
              "                        [ 0.0490, -0.0078, -0.0373]],\n",
              "              \n",
              "                       [[-0.0738, -0.0063, -0.0914],\n",
              "                        [-0.0150, -0.0206, -0.0924],\n",
              "                        [ 0.0064, -0.0762,  0.0322]],\n",
              "              \n",
              "                       [[-0.0380, -0.0974,  0.0420],\n",
              "                        [ 0.0120, -0.0426,  0.0059],\n",
              "                        [-0.0120, -0.0260, -0.0738]],\n",
              "              \n",
              "                       [[ 0.0922, -0.0548,  0.0712],\n",
              "                        [ 0.1051, -0.0643, -0.0456],\n",
              "                        [-0.0248,  0.0096,  0.0320]],\n",
              "              \n",
              "                       [[ 0.0199, -0.1023, -0.0084],\n",
              "                        [-0.0432,  0.0962, -0.0247],\n",
              "                        [ 0.0932,  0.0884,  0.0650]],\n",
              "              \n",
              "                       [[ 0.0530, -0.0454,  0.0335],\n",
              "                        [-0.0890, -0.0130,  0.0050],\n",
              "                        [-0.0179, -0.0200,  0.0090]],\n",
              "              \n",
              "                       [[-0.0895, -0.0653,  0.0803],\n",
              "                        [-0.0118,  0.0521, -0.0121],\n",
              "                        [ 0.0899, -0.0962,  0.0511]]],\n",
              "              \n",
              "              \n",
              "                      [[[ 0.0611,  0.1034,  0.0826],\n",
              "                        [ 0.0481,  0.0758, -0.0651],\n",
              "                        [-0.0057,  0.0909, -0.0705]],\n",
              "              \n",
              "                       [[ 0.1024, -0.0027,  0.0592],\n",
              "                        [ 0.0983,  0.0275, -0.0472],\n",
              "                        [-0.0812,  0.0536, -0.0884]],\n",
              "              \n",
              "                       [[ 0.0074,  0.0114,  0.0164],\n",
              "                        [-0.0493, -0.0053, -0.0964],\n",
              "                        [-0.0830, -0.0105,  0.0035]],\n",
              "              \n",
              "                       [[-0.0147,  0.0898, -0.0457],\n",
              "                        [-0.0482,  0.0186,  0.0888],\n",
              "                        [-0.0177, -0.0489, -0.0731]],\n",
              "              \n",
              "                       [[ 0.0983,  0.1010,  0.0018],\n",
              "                        [ 0.0812,  0.0028, -0.0450],\n",
              "                        [-0.0472, -0.0547, -0.0986]],\n",
              "              \n",
              "                       [[ 0.0149, -0.1045, -0.0450],\n",
              "                        [ 0.0875,  0.0476,  0.0663],\n",
              "                        [-0.0795, -0.0549, -0.0198]],\n",
              "              \n",
              "                       [[ 0.0863, -0.0866, -0.0089],\n",
              "                        [ 0.0853, -0.0556,  0.0597],\n",
              "                        [ 0.0885,  0.0816, -0.0283]],\n",
              "              \n",
              "                       [[ 0.0279,  0.0981,  0.1013],\n",
              "                        [ 0.0711,  0.0389,  0.1044],\n",
              "                        [-0.0247, -0.0114, -0.0795]],\n",
              "              \n",
              "                       [[ 0.0095,  0.0301,  0.0627],\n",
              "                        [ 0.0008, -0.0516, -0.0285],\n",
              "                        [ 0.0947, -0.0689, -0.1043]],\n",
              "              \n",
              "                       [[ 0.0553,  0.0749, -0.0335],\n",
              "                        [ 0.1000,  0.0496,  0.0702],\n",
              "                        [ 0.0039, -0.0004, -0.0453]]],\n",
              "              \n",
              "              \n",
              "                      [[[ 0.0500, -0.0161,  0.0348],\n",
              "                        [ 0.0706, -0.0701,  0.0227],\n",
              "                        [-0.0252,  0.0090, -0.0755]],\n",
              "              \n",
              "                       [[-0.0533, -0.0709, -0.0546],\n",
              "                        [-0.0033,  0.0272,  0.0479],\n",
              "                        [ 0.0678, -0.0997, -0.0252]],\n",
              "              \n",
              "                       [[-0.0734,  0.0890,  0.0707],\n",
              "                        [ 0.0079, -0.0610, -0.0368],\n",
              "                        [ 0.0454, -0.0136, -0.0844]],\n",
              "              \n",
              "                       [[ 0.0380, -0.0101,  0.0979],\n",
              "                        [-0.0028, -0.1003, -0.0113],\n",
              "                        [-0.0948,  0.0404, -0.0844]],\n",
              "              \n",
              "                       [[-0.0167, -0.0319,  0.0810],\n",
              "                        [-0.1039,  0.0188, -0.0195],\n",
              "                        [ 0.0483, -0.0668,  0.0668]],\n",
              "              \n",
              "                       [[ 0.0932, -0.0549,  0.0461],\n",
              "                        [ 0.0870, -0.0559,  0.0766],\n",
              "                        [-0.0360,  0.0097,  0.0859]],\n",
              "              \n",
              "                       [[ 0.0427,  0.0560,  0.0733],\n",
              "                        [-0.0907,  0.0385, -0.0393],\n",
              "                        [ 0.0622,  0.0444, -0.0506]],\n",
              "              \n",
              "                       [[ 0.0644,  0.0650, -0.0669],\n",
              "                        [ 0.0495,  0.0484,  0.0159],\n",
              "                        [-0.0352,  0.0325,  0.0492]],\n",
              "              \n",
              "                       [[-0.0584, -0.0613,  0.0960],\n",
              "                        [-0.0761,  0.0765,  0.0066],\n",
              "                        [-0.0994, -0.0227, -0.0778]],\n",
              "              \n",
              "                       [[ 0.0199, -0.0747, -0.1042],\n",
              "                        [-0.0797, -0.0090,  0.0839],\n",
              "                        [ 0.0371, -0.0987, -0.0001]]],\n",
              "              \n",
              "              \n",
              "                      [[[-0.0576, -0.0666,  0.0722],\n",
              "                        [-0.0375, -0.0521,  0.0415],\n",
              "                        [ 0.0582,  0.0422,  0.0275]],\n",
              "              \n",
              "                       [[ 0.0404, -0.0058, -0.0202],\n",
              "                        [ 0.0069,  0.0640,  0.0526],\n",
              "                        [-0.0866,  0.0355,  0.0025]],\n",
              "              \n",
              "                       [[-0.0351,  0.0845, -0.0817],\n",
              "                        [-0.0366, -0.0494,  0.0981],\n",
              "                        [-0.0003, -0.0840, -0.0718]],\n",
              "              \n",
              "                       [[-0.0312, -0.0799, -0.0609],\n",
              "                        [-0.0459,  0.0382,  0.0567],\n",
              "                        [ 0.0673, -0.0204, -0.0272]],\n",
              "              \n",
              "                       [[ 0.0418,  0.0254, -0.0248],\n",
              "                        [-0.0951, -0.0636,  0.0237],\n",
              "                        [-0.0539,  0.1049,  0.0395]],\n",
              "              \n",
              "                       [[ 0.0266,  0.0846,  0.0939],\n",
              "                        [ 0.0871,  0.0877,  0.0243],\n",
              "                        [-0.0517,  0.0970,  0.0937]],\n",
              "              \n",
              "                       [[-0.0773,  0.0321, -0.0833],\n",
              "                        [ 0.0835, -0.0940,  0.0495],\n",
              "                        [ 0.0228,  0.0994, -0.0090]],\n",
              "              \n",
              "                       [[ 0.0830,  0.0939, -0.0717],\n",
              "                        [-0.0194,  0.0662,  0.0395],\n",
              "                        [ 0.0461, -0.0927, -0.0059]],\n",
              "              \n",
              "                       [[ 0.0744, -0.0378,  0.0323],\n",
              "                        [-0.0770,  0.0230, -0.0006],\n",
              "                        [ 0.0782, -0.0596, -0.0173]],\n",
              "              \n",
              "                       [[-0.0306, -0.0371, -0.0321],\n",
              "                        [ 0.0050,  0.0566,  0.0689],\n",
              "                        [ 0.0538, -0.0531,  0.0876]]],\n",
              "              \n",
              "              \n",
              "                      [[[-0.0479, -0.1011,  0.0146],\n",
              "                        [ 0.0759, -0.0208,  0.0992],\n",
              "                        [ 0.1015,  0.0181, -0.0719]],\n",
              "              \n",
              "                       [[-0.0592, -0.0863, -0.0141],\n",
              "                        [ 0.0441, -0.0042,  0.0145],\n",
              "                        [ 0.0377,  0.0591,  0.0067]],\n",
              "              \n",
              "                       [[-0.0599,  0.0390, -0.0470],\n",
              "                        [ 0.0512, -0.0808, -0.0145],\n",
              "                        [ 0.0822,  0.1010, -0.0717]],\n",
              "              \n",
              "                       [[-0.0356,  0.0722, -0.0990],\n",
              "                        [ 0.0007, -0.0439,  0.0187],\n",
              "                        [-0.0225, -0.0804, -0.0403]],\n",
              "              \n",
              "                       [[ 0.0070,  0.0169, -0.0467],\n",
              "                        [-0.0370,  0.0410,  0.0588],\n",
              "                        [-0.0831,  0.0760,  0.0528]],\n",
              "              \n",
              "                       [[-0.0178,  0.0960,  0.0445],\n",
              "                        [ 0.0256,  0.1034, -0.0671],\n",
              "                        [-0.0834, -0.0632,  0.0096]],\n",
              "              \n",
              "                       [[-0.0936,  0.0822, -0.0205],\n",
              "                        [ 0.0231, -0.0814,  0.0183],\n",
              "                        [-0.0825,  0.0002, -0.0575]],\n",
              "              \n",
              "                       [[ 0.0754, -0.0429, -0.0901],\n",
              "                        [-0.0673,  0.0847,  0.0568],\n",
              "                        [-0.0410, -0.0001,  0.0069]],\n",
              "              \n",
              "                       [[ 0.0833, -0.0045, -0.0938],\n",
              "                        [ 0.0657, -0.1038, -0.0552],\n",
              "                        [-0.0908, -0.0434,  0.0200]],\n",
              "              \n",
              "                       [[ 0.0917,  0.0884, -0.0143],\n",
              "                        [-0.0050, -0.0485, -0.0019],\n",
              "                        [-0.1053, -0.0944, -0.0607]]],\n",
              "              \n",
              "              \n",
              "                      [[[ 0.0168, -0.0265, -0.0391],\n",
              "                        [ 0.0855, -0.0255,  0.0396],\n",
              "                        [-0.0848,  0.0252,  0.0594]],\n",
              "              \n",
              "                       [[ 0.0911,  0.0980,  0.0254],\n",
              "                        [-0.0689,  0.0848,  0.0061],\n",
              "                        [ 0.0849, -0.0854, -0.0103]],\n",
              "              \n",
              "                       [[-0.0062,  0.0701, -0.0734],\n",
              "                        [ 0.0914, -0.0416,  0.0841],\n",
              "                        [-0.0436, -0.0965, -0.0216]],\n",
              "              \n",
              "                       [[-0.0978,  0.0071,  0.1008],\n",
              "                        [ 0.0866,  0.0344, -0.0456],\n",
              "                        [-0.0956, -0.0493,  0.0926]],\n",
              "              \n",
              "                       [[ 0.0315,  0.0991, -0.1046],\n",
              "                        [ 0.0297, -0.0538,  0.0261],\n",
              "                        [ 0.1018,  0.0263,  0.0492]],\n",
              "              \n",
              "                       [[ 0.0998, -0.0296,  0.0406],\n",
              "                        [-0.0611,  0.0442, -0.0847],\n",
              "                        [-0.0063,  0.0757, -0.0993]],\n",
              "              \n",
              "                       [[ 0.0921,  0.0425,  0.0721],\n",
              "                        [ 0.0397,  0.0032, -0.0448],\n",
              "                        [ 0.0726,  0.0546,  0.0469]],\n",
              "              \n",
              "                       [[ 0.1028,  0.1035,  0.0272],\n",
              "                        [ 0.0358, -0.0159, -0.0983],\n",
              "                        [-0.0420,  0.0509, -0.1025]],\n",
              "              \n",
              "                       [[-0.0507, -0.0395,  0.0482],\n",
              "                        [ 0.0322, -0.0092,  0.0727],\n",
              "                        [-0.1051, -0.0215, -0.0264]],\n",
              "              \n",
              "                       [[-0.0293,  0.1008, -0.1050],\n",
              "                        [-0.0674, -0.1023, -0.0440],\n",
              "                        [ 0.0805,  0.0178,  0.0709]]],\n",
              "              \n",
              "              \n",
              "                      [[[-0.0327, -0.0848, -0.0894],\n",
              "                        [-0.0864,  0.0097,  0.0421],\n",
              "                        [ 0.0197, -0.0941,  0.0276]],\n",
              "              \n",
              "                       [[ 0.0691, -0.0875,  0.0365],\n",
              "                        [ 0.0960,  0.0758,  0.0702],\n",
              "                        [-0.0880, -0.0297,  0.0514]],\n",
              "              \n",
              "                       [[-0.0632,  0.0792,  0.0200],\n",
              "                        [ 0.0318,  0.0186, -0.0681],\n",
              "                        [-0.0933, -0.0428,  0.1052]],\n",
              "              \n",
              "                       [[-0.0435,  0.0753,  0.0030],\n",
              "                        [-0.0899, -0.0482, -0.0117],\n",
              "                        [-0.0208,  0.1048, -0.0390]],\n",
              "              \n",
              "                       [[ 0.0126, -0.0318,  0.0248],\n",
              "                        [ 0.0206, -0.0676,  0.0040],\n",
              "                        [ 0.0704,  0.0023,  0.0833]],\n",
              "              \n",
              "                       [[-0.0366, -0.0099,  0.0460],\n",
              "                        [ 0.0169,  0.0513, -0.0009],\n",
              "                        [-0.0142,  0.0178,  0.0827]],\n",
              "              \n",
              "                       [[ 0.0902,  0.0999,  0.1001],\n",
              "                        [ 0.0571,  0.0115,  0.0719],\n",
              "                        [ 0.1019, -0.0489,  0.0091]],\n",
              "              \n",
              "                       [[-0.0651, -0.1040, -0.0576],\n",
              "                        [-0.0324,  0.0442, -0.0881],\n",
              "                        [-0.0582,  0.0894, -0.0881]],\n",
              "              \n",
              "                       [[-0.0614, -0.0928,  0.0827],\n",
              "                        [-0.0435, -0.1029,  0.0846],\n",
              "                        [-0.0981,  0.0706,  0.0311]],\n",
              "              \n",
              "                       [[-0.0059, -0.0696,  0.0962],\n",
              "                        [-0.0160,  0.0294, -0.0980],\n",
              "                        [-0.0409, -0.0067, -0.0496]]],\n",
              "              \n",
              "              \n",
              "                      [[[ 0.0262, -0.0676, -0.0724],\n",
              "                        [ 0.0897, -0.0676,  0.0637],\n",
              "                        [ 0.0478,  0.0649,  0.0509]],\n",
              "              \n",
              "                       [[-0.0248,  0.0562, -0.0012],\n",
              "                        [ 0.0258,  0.0851, -0.0095],\n",
              "                        [-0.0414, -0.0124, -0.0806]],\n",
              "              \n",
              "                       [[ 0.0612,  0.0877, -0.0717],\n",
              "                        [-0.0685, -0.0816, -0.0386],\n",
              "                        [ 0.0595,  0.0650,  0.0692]],\n",
              "              \n",
              "                       [[-0.0804,  0.0294,  0.0721],\n",
              "                        [-0.0406,  0.1036, -0.0239],\n",
              "                        [ 0.0346, -0.0784, -0.0556]],\n",
              "              \n",
              "                       [[-0.0579, -0.0613,  0.0664],\n",
              "                        [-0.0524, -0.0051, -0.0391],\n",
              "                        [-0.0194,  0.0010,  0.0021]],\n",
              "              \n",
              "                       [[ 0.0714,  0.0703,  0.0740],\n",
              "                        [-0.1049,  0.0865, -0.0198],\n",
              "                        [-0.0297,  0.0446, -0.0677]],\n",
              "              \n",
              "                       [[-0.0864, -0.0744, -0.0343],\n",
              "                        [ 0.0934, -0.0470, -0.0988],\n",
              "                        [-0.0474, -0.0353, -0.0325]],\n",
              "              \n",
              "                       [[-0.0826, -0.0004,  0.0379],\n",
              "                        [-0.0531, -0.0190, -0.0646],\n",
              "                        [ 0.1027,  0.0664, -0.0171]],\n",
              "              \n",
              "                       [[-0.0154, -0.0836,  0.0002],\n",
              "                        [ 0.0257, -0.0698,  0.0863],\n",
              "                        [-0.0235, -0.0366,  0.0177]],\n",
              "              \n",
              "                       [[ 0.0322,  0.0843,  0.0615],\n",
              "                        [ 0.0805, -0.0377, -0.0226],\n",
              "                        [ 0.0780,  0.0207, -0.0344]]],\n",
              "              \n",
              "              \n",
              "                      [[[ 0.0683,  0.0926, -0.0359],\n",
              "                        [ 0.0098, -0.0033,  0.0989],\n",
              "                        [-0.0478, -0.0549,  0.0373]],\n",
              "              \n",
              "                       [[-0.0420, -0.0723, -0.0853],\n",
              "                        [-0.0106,  0.0876, -0.0045],\n",
              "                        [ 0.0747,  0.0375,  0.0901]],\n",
              "              \n",
              "                       [[ 0.0648, -0.0398, -0.0825],\n",
              "                        [-0.0779,  0.0107,  0.0902],\n",
              "                        [ 0.0854,  0.0459, -0.0942]],\n",
              "              \n",
              "                       [[-0.0239,  0.0256,  0.0394],\n",
              "                        [-0.0223, -0.0775, -0.0024],\n",
              "                        [-0.0839, -0.0323, -0.0580]],\n",
              "              \n",
              "                       [[-0.1045,  0.1034, -0.0617],\n",
              "                        [-0.0900,  0.0157,  0.0007],\n",
              "                        [ 0.0188,  0.0109, -0.0464]],\n",
              "              \n",
              "                       [[ 0.0352, -0.0941,  0.0663],\n",
              "                        [-0.0949, -0.0726,  0.0182],\n",
              "                        [-0.0045, -0.0627, -0.0458]],\n",
              "              \n",
              "                       [[ 0.1040, -0.0484, -0.0978],\n",
              "                        [-0.0918,  0.0565, -0.0685],\n",
              "                        [-0.0355,  0.0255,  0.0874]],\n",
              "              \n",
              "                       [[ 0.0781,  0.0863, -0.0030],\n",
              "                        [ 0.0433, -0.0042, -0.0847],\n",
              "                        [ 0.0109,  0.0148,  0.0579]],\n",
              "              \n",
              "                       [[-0.0898,  0.0503,  0.1025],\n",
              "                        [ 0.0549, -0.0796, -0.0835],\n",
              "                        [-0.0426, -0.0395,  0.0016]],\n",
              "              \n",
              "                       [[ 0.0798,  0.0267, -0.0101],\n",
              "                        [ 0.0342, -0.0429, -0.1001],\n",
              "                        [-0.0888,  0.0329, -0.0490]]]], device='cuda:0')),\n",
              "             ('conv_block_2.0.bias',\n",
              "              tensor([-0.0891,  0.0839,  0.0101, -0.0288,  0.0508,  0.0811,  0.0792,  0.0825,\n",
              "                       0.0901,  0.0617], device='cuda:0')),\n",
              "             ('conv_block_2.2.weight',\n",
              "              tensor([[[[ 0.0372,  0.0259, -0.0113],\n",
              "                        [-0.0876,  0.0535,  0.0407],\n",
              "                        [ 0.0289,  0.1014, -0.0772]],\n",
              "              \n",
              "                       [[-0.0876, -0.1020, -0.0214],\n",
              "                        [ 0.0835, -0.0536,  0.0488],\n",
              "                        [-0.0004,  0.0311,  0.0440]],\n",
              "              \n",
              "                       [[ 0.0054, -0.0312,  0.0568],\n",
              "                        [-0.0393, -0.0300, -0.0009],\n",
              "                        [-0.0383, -0.0241, -0.0236]],\n",
              "              \n",
              "                       [[ 0.0187, -0.0974, -0.0310],\n",
              "                        [ 0.1039,  0.0510,  0.0732],\n",
              "                        [-0.0971,  0.0202,  0.0599]],\n",
              "              \n",
              "                       [[ 0.0233,  0.1042,  0.0836],\n",
              "                        [-0.0367, -0.0834,  0.1032],\n",
              "                        [-0.0527,  0.0226, -0.0025]],\n",
              "              \n",
              "                       [[ 0.0325,  0.0748, -0.0410],\n",
              "                        [ 0.0178, -0.0260,  0.0198],\n",
              "                        [ 0.0253,  0.0715,  0.0924]],\n",
              "              \n",
              "                       [[ 0.0143, -0.0974,  0.0578],\n",
              "                        [ 0.0033, -0.0887,  0.0779],\n",
              "                        [ 0.0494,  0.0188, -0.0452]],\n",
              "              \n",
              "                       [[ 0.0505, -0.0310, -0.0288],\n",
              "                        [ 0.0302,  0.0326,  0.0011],\n",
              "                        [ 0.0083,  0.0364,  0.0091]],\n",
              "              \n",
              "                       [[ 0.0812, -0.0057, -0.0434],\n",
              "                        [-0.0172,  0.0342,  0.0345],\n",
              "                        [-0.0802, -0.0905,  0.0206]],\n",
              "              \n",
              "                       [[-0.0827, -0.0962, -0.0426],\n",
              "                        [-0.0616, -0.0368,  0.0271],\n",
              "                        [-0.0018,  0.0290,  0.1002]]],\n",
              "              \n",
              "              \n",
              "                      [[[ 0.0603, -0.1020,  0.1015],\n",
              "                        [ 0.0984, -0.0372, -0.0707],\n",
              "                        [ 0.0773, -0.0656, -0.0853]],\n",
              "              \n",
              "                       [[-0.0491, -0.0404,  0.0085],\n",
              "                        [-0.0529, -0.0995, -0.0254],\n",
              "                        [-0.0582,  0.0921, -0.0103]],\n",
              "              \n",
              "                       [[ 0.0687,  0.0318, -0.0198],\n",
              "                        [ 0.0287,  0.0308,  0.0569],\n",
              "                        [ 0.0111,  0.0323,  0.0499]],\n",
              "              \n",
              "                       [[-0.0377,  0.0487, -0.0790],\n",
              "                        [-0.0869, -0.0469, -0.0192],\n",
              "                        [-0.0349,  0.0555, -0.0544]],\n",
              "              \n",
              "                       [[ 0.0974,  0.0783, -0.0862],\n",
              "                        [-0.0988,  0.0166, -0.0610],\n",
              "                        [-0.0456, -0.0646,  0.0305]],\n",
              "              \n",
              "                       [[ 0.1002, -0.0106, -0.0955],\n",
              "                        [ 0.0197, -0.0595, -0.0308],\n",
              "                        [-0.0947, -0.0627,  0.0302]],\n",
              "              \n",
              "                       [[-0.0063, -0.0187,  0.0240],\n",
              "                        [-0.0254,  0.0894, -0.0582],\n",
              "                        [ 0.0677,  0.0917,  0.0235]],\n",
              "              \n",
              "                       [[-0.0870,  0.0179, -0.0387],\n",
              "                        [ 0.0673,  0.0476, -0.0680],\n",
              "                        [ 0.0652, -0.0003, -0.0419]],\n",
              "              \n",
              "                       [[-0.0994, -0.1024, -0.0322],\n",
              "                        [-0.0934,  0.0325,  0.0057],\n",
              "                        [-0.0013,  0.0554, -0.0698]],\n",
              "              \n",
              "                       [[-0.0961, -0.0412,  0.0684],\n",
              "                        [ 0.0057,  0.0408,  0.1053],\n",
              "                        [-0.0996, -0.0738,  0.0827]]],\n",
              "              \n",
              "              \n",
              "                      [[[ 0.0628,  0.0050, -0.0375],\n",
              "                        [-0.0784,  0.0834, -0.0367],\n",
              "                        [-0.0656,  0.0502,  0.0061]],\n",
              "              \n",
              "                       [[-0.0663, -0.0669,  0.0657],\n",
              "                        [ 0.0743, -0.0329,  0.0912],\n",
              "                        [-0.0277, -0.0393,  0.0352]],\n",
              "              \n",
              "                       [[ 0.0250,  0.1049,  0.0024],\n",
              "                        [ 0.0789, -0.0432,  0.0959],\n",
              "                        [ 0.0439, -0.0833,  0.0063]],\n",
              "              \n",
              "                       [[-0.0931, -0.0439, -0.0616],\n",
              "                        [ 0.0490,  0.0545, -0.0335],\n",
              "                        [-0.0764,  0.0327,  0.0374]],\n",
              "              \n",
              "                       [[ 0.0090,  0.0691, -0.0101],\n",
              "                        [ 0.0738, -0.0827,  0.1002],\n",
              "                        [ 0.0904, -0.0017,  0.0547]],\n",
              "              \n",
              "                       [[ 0.0652,  0.1005, -0.0095],\n",
              "                        [-0.0517, -0.0373, -0.0506],\n",
              "                        [ 0.0995, -0.0629,  0.0307]],\n",
              "              \n",
              "                       [[ 0.0060,  0.0850,  0.0386],\n",
              "                        [-0.0733, -0.0881,  0.0416],\n",
              "                        [ 0.0180,  0.0885,  0.1002]],\n",
              "              \n",
              "                       [[-0.0881,  0.0412, -0.0496],\n",
              "                        [ 0.0999, -0.0767, -0.0925],\n",
              "                        [-0.0823, -0.0614, -0.0613]],\n",
              "              \n",
              "                       [[ 0.0969,  0.1017, -0.0603],\n",
              "                        [-0.0160, -0.0031,  0.0367],\n",
              "                        [-0.0210,  0.0914,  0.0288]],\n",
              "              \n",
              "                       [[-0.0867, -0.0999, -0.0975],\n",
              "                        [ 0.0032, -0.0839,  0.0267],\n",
              "                        [ 0.0928, -0.1042,  0.0689]]],\n",
              "              \n",
              "              \n",
              "                      [[[-0.0127, -0.0374, -0.0545],\n",
              "                        [-0.1020, -0.0318, -0.0219],\n",
              "                        [-0.0744,  0.0959, -0.0396]],\n",
              "              \n",
              "                       [[ 0.0413, -0.0299, -0.0299],\n",
              "                        [ 0.0066,  0.0445, -0.0716],\n",
              "                        [-0.0884,  0.0334,  0.0196]],\n",
              "              \n",
              "                       [[ 0.0245,  0.0042,  0.0216],\n",
              "                        [-0.0184, -0.0812,  0.0515],\n",
              "                        [-0.0167, -0.0191, -0.0524]],\n",
              "              \n",
              "                       [[ 0.0355, -0.0222, -0.1036],\n",
              "                        [ 0.1040, -0.0392, -0.0342],\n",
              "                        [ 0.0708, -0.0652,  0.0488]],\n",
              "              \n",
              "                       [[-0.0477,  0.0010, -0.1040],\n",
              "                        [ 0.0023,  0.0375, -0.0707],\n",
              "                        [ 0.0414, -0.0748, -0.0614]],\n",
              "              \n",
              "                       [[-0.0442,  0.0799, -0.0692],\n",
              "                        [-0.0014, -0.0030, -0.0522],\n",
              "                        [-0.0362,  0.0511, -0.0221]],\n",
              "              \n",
              "                       [[-0.0757, -0.0602,  0.0473],\n",
              "                        [-0.0401,  0.0929,  0.0608],\n",
              "                        [ 0.0613, -0.0996, -0.0310]],\n",
              "              \n",
              "                       [[-0.0078,  0.0850, -0.0057],\n",
              "                        [-0.0132,  0.0068,  0.0385],\n",
              "                        [ 0.0020,  0.0631, -0.0843]],\n",
              "              \n",
              "                       [[ 0.0495,  0.0672,  0.0885],\n",
              "                        [ 0.0363,  0.0245, -0.0868],\n",
              "                        [-0.0795,  0.0214, -0.0956]],\n",
              "              \n",
              "                       [[-0.0522, -0.0571, -0.0398],\n",
              "                        [-0.0435, -0.0637,  0.0786],\n",
              "                        [-0.0995, -0.0758,  0.0181]]],\n",
              "              \n",
              "              \n",
              "                      [[[-0.0785,  0.0727,  0.0940],\n",
              "                        [-0.0632,  0.0949, -0.0073],\n",
              "                        [ 0.0706, -0.0367, -0.0880]],\n",
              "              \n",
              "                       [[ 0.0113,  0.0210, -0.0692],\n",
              "                        [-0.0123,  0.0684, -0.0882],\n",
              "                        [ 0.0201,  0.0191, -0.0775]],\n",
              "              \n",
              "                       [[ 0.0614,  0.0038, -0.0996],\n",
              "                        [-0.1039,  0.0046,  0.0891],\n",
              "                        [ 0.0211, -0.0519, -0.0722]],\n",
              "              \n",
              "                       [[-0.0937, -0.0986,  0.0459],\n",
              "                        [-0.0230,  0.0576,  0.0722],\n",
              "                        [ 0.0915,  0.0580,  0.0293]],\n",
              "              \n",
              "                       [[ 0.0828,  0.0796,  0.0114],\n",
              "                        [ 0.0024, -0.0432,  0.0219],\n",
              "                        [ 0.0499,  0.0105,  0.0837]],\n",
              "              \n",
              "                       [[-0.0518, -0.0965,  0.0265],\n",
              "                        [-0.0336, -0.0867,  0.0078],\n",
              "                        [-0.0691, -0.0138, -0.0027]],\n",
              "              \n",
              "                       [[ 0.0623, -0.0591, -0.0207],\n",
              "                        [ 0.0352, -0.0747, -0.0403],\n",
              "                        [ 0.0200,  0.0291, -0.0018]],\n",
              "              \n",
              "                       [[ 0.0717,  0.1011,  0.0743],\n",
              "                        [ 0.0243, -0.0191, -0.0814],\n",
              "                        [-0.0364,  0.0604,  0.1004]],\n",
              "              \n",
              "                       [[-0.0432,  0.0668, -0.0869],\n",
              "                        [ 0.0925, -0.0420,  0.0277],\n",
              "                        [ 0.0381,  0.0006, -0.0206]],\n",
              "              \n",
              "                       [[ 0.0626,  0.0422, -0.0326],\n",
              "                        [ 0.0670,  0.0121,  0.0735],\n",
              "                        [-0.0603,  0.0141,  0.0595]]],\n",
              "              \n",
              "              \n",
              "                      [[[-0.0169, -0.0795,  0.0419],\n",
              "                        [-0.0127,  0.0996, -0.0781],\n",
              "                        [ 0.0986, -0.0820,  0.1024]],\n",
              "              \n",
              "                       [[-0.0307,  0.0550, -0.0773],\n",
              "                        [ 0.0422,  0.0032,  0.0010],\n",
              "                        [ 0.0373, -0.0097,  0.0416]],\n",
              "              \n",
              "                       [[-0.0654, -0.0760,  0.0733],\n",
              "                        [ 0.0546,  0.0664,  0.0523],\n",
              "                        [-0.0805, -0.0558,  0.0777]],\n",
              "              \n",
              "                       [[ 0.0197, -0.0587,  0.0183],\n",
              "                        [ 0.0770,  0.0081, -0.0367],\n",
              "                        [ 0.0298,  0.0776, -0.0951]],\n",
              "              \n",
              "                       [[ 0.0700,  0.1028,  0.0152],\n",
              "                        [-0.0371, -0.0879,  0.0851],\n",
              "                        [ 0.0775,  0.0955, -0.0739]],\n",
              "              \n",
              "                       [[ 0.0941, -0.0133, -0.0691],\n",
              "                        [ 0.0177,  0.0086, -0.0446],\n",
              "                        [ 0.1021, -0.0067, -0.0431]],\n",
              "              \n",
              "                       [[ 0.1045, -0.0911, -0.1015],\n",
              "                        [-0.0138, -0.0614,  0.0871],\n",
              "                        [ 0.0290, -0.0540, -0.0714]],\n",
              "              \n",
              "                       [[ 0.0917, -0.0991,  0.0836],\n",
              "                        [-0.0062,  0.0988, -0.0755],\n",
              "                        [ 0.0669,  0.0688,  0.0782]],\n",
              "              \n",
              "                       [[-0.1042,  0.0288,  0.0940],\n",
              "                        [ 0.0229, -0.0961,  0.0870],\n",
              "                        [-0.0711,  0.0591,  0.0848]],\n",
              "              \n",
              "                       [[-0.0426, -0.0520, -0.0145],\n",
              "                        [ 0.0746,  0.0823,  0.0206],\n",
              "                        [-0.0442, -0.0742, -0.0957]]],\n",
              "              \n",
              "              \n",
              "                      [[[-0.0024, -0.0963, -0.0781],\n",
              "                        [-0.0781, -0.0772,  0.0064],\n",
              "                        [ 0.0956,  0.0279,  0.1048]],\n",
              "              \n",
              "                       [[ 0.0477, -0.0138, -0.0799],\n",
              "                        [ 0.0567,  0.1053,  0.0043],\n",
              "                        [ 0.0023, -0.0446, -0.0074]],\n",
              "              \n",
              "                       [[ 0.0438, -0.0972, -0.0842],\n",
              "                        [-0.0198, -0.0746,  0.0051],\n",
              "                        [-0.0698, -0.0495,  0.0879]],\n",
              "              \n",
              "                       [[ 0.0384, -0.0571, -0.0076],\n",
              "                        [ 0.0046,  0.0202,  0.0211],\n",
              "                        [ 0.0086,  0.0134, -0.0243]],\n",
              "              \n",
              "                       [[ 0.0098,  0.0372,  0.0425],\n",
              "                        [ 0.0846, -0.0589, -0.0148],\n",
              "                        [ 0.0218,  0.0343,  0.0641]],\n",
              "              \n",
              "                       [[-0.0220,  0.0019, -0.0382],\n",
              "                        [-0.0500, -0.0540,  0.1020],\n",
              "                        [ 0.0661, -0.0446,  0.0941]],\n",
              "              \n",
              "                       [[-0.0623, -0.0431,  0.0042],\n",
              "                        [-0.0879,  0.0547, -0.0062],\n",
              "                        [ 0.0947, -0.0641, -0.0804]],\n",
              "              \n",
              "                       [[ 0.0211,  0.0994, -0.0060],\n",
              "                        [ 0.0500, -0.0596, -0.1025],\n",
              "                        [-0.0802, -0.1016,  0.0549]],\n",
              "              \n",
              "                       [[ 0.0490,  0.0387,  0.0136],\n",
              "                        [-0.0964,  0.0258, -0.0236],\n",
              "                        [-0.0306,  0.1031,  0.0962]],\n",
              "              \n",
              "                       [[-0.0809,  0.0942,  0.0616],\n",
              "                        [ 0.0499,  0.0523, -0.0047],\n",
              "                        [ 0.0522,  0.0259,  0.0456]]],\n",
              "              \n",
              "              \n",
              "                      [[[ 0.0067,  0.1020,  0.0939],\n",
              "                        [-0.0099, -0.0298,  0.0979],\n",
              "                        [ 0.0615,  0.0174, -0.0348]],\n",
              "              \n",
              "                       [[ 0.0536,  0.0699, -0.0537],\n",
              "                        [-0.0049,  0.0289,  0.0484],\n",
              "                        [-0.0322,  0.0356, -0.0926]],\n",
              "              \n",
              "                       [[ 0.0351, -0.0758, -0.0456],\n",
              "                        [ 0.0258, -0.0437,  0.0289],\n",
              "                        [-0.0288,  0.0525, -0.0272]],\n",
              "              \n",
              "                       [[ 0.0657, -0.0819,  0.1041],\n",
              "                        [ 0.0419, -0.0405, -0.0175],\n",
              "                        [-0.0939, -0.0174, -0.0040]],\n",
              "              \n",
              "                       [[-0.0860,  0.0137, -0.0977],\n",
              "                        [-0.0492, -0.0705,  0.0736],\n",
              "                        [ 0.0690,  0.0964, -0.0532]],\n",
              "              \n",
              "                       [[-0.0693, -0.0017, -0.0202],\n",
              "                        [-0.0495, -0.0340,  0.0975],\n",
              "                        [ 0.0523, -0.0641,  0.0809]],\n",
              "              \n",
              "                       [[-0.0912,  0.0049, -0.1048],\n",
              "                        [-0.0980,  0.0886,  0.0706],\n",
              "                        [ 0.0013, -0.1030, -0.0277]],\n",
              "              \n",
              "                       [[ 0.0904, -0.0008, -0.0304],\n",
              "                        [-0.0202,  0.0836, -0.0490],\n",
              "                        [ 0.0665,  0.0033,  0.0370]],\n",
              "              \n",
              "                       [[-0.0224,  0.0004,  0.0835],\n",
              "                        [-0.0743, -0.0411,  0.0711],\n",
              "                        [-0.0736,  0.0319,  0.0545]],\n",
              "              \n",
              "                       [[-0.0201, -0.0070,  0.1047],\n",
              "                        [ 0.0026, -0.0240,  0.0477],\n",
              "                        [-0.0273,  0.0844,  0.0791]]],\n",
              "              \n",
              "              \n",
              "                      [[[-0.0531,  0.0785,  0.0755],\n",
              "                        [-0.0157,  0.0324,  0.0643],\n",
              "                        [-0.0062,  0.0709, -0.0654]],\n",
              "              \n",
              "                       [[-0.0060, -0.0243,  0.0687],\n",
              "                        [-0.0215,  0.0898, -0.0139],\n",
              "                        [-0.0023, -0.0875, -0.0790]],\n",
              "              \n",
              "                       [[-0.0548,  0.0245, -0.0407],\n",
              "                        [-0.0723,  0.0399, -0.0401],\n",
              "                        [-0.0176,  0.0539,  0.0530]],\n",
              "              \n",
              "                       [[ 0.1049,  0.0407, -0.0473],\n",
              "                        [ 0.0404, -0.0057,  0.0170],\n",
              "                        [-0.0206, -0.0823,  0.0993]],\n",
              "              \n",
              "                       [[-0.0279,  0.0397,  0.0357],\n",
              "                        [-0.1010, -0.0897,  0.0866],\n",
              "                        [ 0.0661,  0.0235,  0.0114]],\n",
              "              \n",
              "                       [[-0.0925,  0.0477,  0.0078],\n",
              "                        [-0.0753, -0.1044, -0.0911],\n",
              "                        [-0.0600,  0.0196, -0.0215]],\n",
              "              \n",
              "                       [[ 0.0456, -0.0947,  0.1049],\n",
              "                        [ 0.0472,  0.0410, -0.0021],\n",
              "                        [ 0.0570, -0.0830,  0.0092]],\n",
              "              \n",
              "                       [[ 0.0005, -0.0376,  0.0098],\n",
              "                        [ 0.0699, -0.0600,  0.0072],\n",
              "                        [ 0.0122, -0.0717, -0.0549]],\n",
              "              \n",
              "                       [[-0.0697,  0.0416, -0.0952],\n",
              "                        [ 0.0493,  0.0073, -0.0847],\n",
              "                        [ 0.0430,  0.0113, -0.0147]],\n",
              "              \n",
              "                       [[-0.0894,  0.0890,  0.0648],\n",
              "                        [-0.1035,  0.0061, -0.0082],\n",
              "                        [-0.0142, -0.0221, -0.0724]]],\n",
              "              \n",
              "              \n",
              "                      [[[-0.0532, -0.0381, -0.0607],\n",
              "                        [ 0.0574,  0.0979,  0.0013],\n",
              "                        [-0.0193,  0.0467,  0.0686]],\n",
              "              \n",
              "                       [[-0.0456, -0.0107,  0.0923],\n",
              "                        [ 0.1025, -0.0774,  0.0438],\n",
              "                        [-0.0936,  0.0180, -0.0702]],\n",
              "              \n",
              "                       [[-0.0333,  0.0860, -0.0713],\n",
              "                        [ 0.0260,  0.0797,  0.0482],\n",
              "                        [ 0.0148,  0.0469, -0.0835]],\n",
              "              \n",
              "                       [[ 0.0775, -0.0156,  0.0141],\n",
              "                        [ 0.0045, -0.0487, -0.0959],\n",
              "                        [-0.0120, -0.0909,  0.1043]],\n",
              "              \n",
              "                       [[ 0.0308, -0.0174, -0.0721],\n",
              "                        [ 0.0704, -0.0399, -0.0186],\n",
              "                        [ 0.0169,  0.0167,  0.0761]],\n",
              "              \n",
              "                       [[-0.0155, -0.0685, -0.0892],\n",
              "                        [ 0.0374, -0.0912, -0.0829],\n",
              "                        [-0.0205, -0.0362,  0.0397]],\n",
              "              \n",
              "                       [[-0.0318, -0.0467,  0.0971],\n",
              "                        [-0.1050,  0.1037, -0.0163],\n",
              "                        [ 0.0621,  0.0611,  0.1018]],\n",
              "              \n",
              "                       [[ 0.0759,  0.0189,  0.0615],\n",
              "                        [ 0.0883,  0.0386,  0.0315],\n",
              "                        [ 0.0661,  0.0355, -0.0890]],\n",
              "              \n",
              "                       [[ 0.0660,  0.0292,  0.0003],\n",
              "                        [-0.0490, -0.0258,  0.0125],\n",
              "                        [ 0.0717, -0.0232, -0.1037]],\n",
              "              \n",
              "                       [[-0.0860, -0.0049,  0.0542],\n",
              "                        [-0.0299, -0.0954,  0.0915],\n",
              "                        [-0.0176, -0.0874, -0.0523]]]], device='cuda:0')),\n",
              "             ('conv_block_2.2.bias',\n",
              "              tensor([ 0.0682, -0.0154,  0.0473, -0.0019, -0.0288, -0.0534, -0.0088, -0.0756,\n",
              "                      -0.0718,  0.0492], device='cuda:0')),\n",
              "             ('classifier.1.weight',\n",
              "              tensor([[ 0.0273, -0.0026, -0.0220,  ..., -0.0144, -0.0303,  0.0041],\n",
              "                      [ 0.0141,  0.0265, -0.0426,  ..., -0.0010,  0.0319, -0.0203],\n",
              "                      [-0.0111, -0.0178, -0.0444,  ...,  0.0096, -0.0240, -0.0147],\n",
              "                      ...,\n",
              "                      [-0.0372,  0.0253,  0.0070,  ...,  0.0185,  0.0265, -0.0112],\n",
              "                      [ 0.0172, -0.0101, -0.0068,  ...,  0.0319, -0.0226, -0.0041],\n",
              "                      [ 0.0245,  0.0207, -0.0358,  ..., -0.0038,  0.0293, -0.0321]],\n",
              "                     device='cuda:0')),\n",
              "             ('classifier.1.bias',\n",
              "              tensor([-0.0188,  0.0208,  0.0164, -0.0293,  0.0269,  0.0055,  0.0290,  0.0441,\n",
              "                      -0.0214, -0.0270], device='cuda:0'))])"
            ]
          },
          "metadata": {},
          "execution_count": 23
        }
      ]
    },
    {
      "cell_type": "code",
      "source": [
        "dummy_x = torch.rand(size=(1, 28, 28)).unsqueeze(dim=0).to(device)\n",
        "# dummy_x.shape\n",
        "model(dummy_x)"
      ],
      "metadata": {
        "colab": {
          "base_uri": "https://localhost:8080/"
        },
        "id": "YYZbQFy7QAPk",
        "outputId": "30a8e49f-c83d-4e15-a109-0ae71524ac43"
      },
      "execution_count": 24,
      "outputs": [
        {
          "output_type": "execute_result",
          "data": {
            "text/plain": [
              "tensor([[-0.0369,  0.0250, -0.0311, -0.0185,  0.0246,  0.0229,  0.0153,  0.0265,\n",
              "         -0.0413,  0.0357]], device='cuda:0', grad_fn=<AddmmBackward0>)"
            ]
          },
          "metadata": {},
          "execution_count": 24
        }
      ]
    },
    {
      "cell_type": "code",
      "source": [
        "dummy_x_2 = torch.rand(size=([1, 10, 7, 7]))\n",
        "dummy_x_2.shape"
      ],
      "metadata": {
        "colab": {
          "base_uri": "https://localhost:8080/"
        },
        "id": "PZr04hEEQDsx",
        "outputId": "1c016b5e-d173-4293-9ec2-fcb1a20c971b"
      },
      "execution_count": 25,
      "outputs": [
        {
          "output_type": "execute_result",
          "data": {
            "text/plain": [
              "torch.Size([1, 10, 7, 7])"
            ]
          },
          "metadata": {},
          "execution_count": 25
        }
      ]
    },
    {
      "cell_type": "code",
      "source": [
        "flatten_layer = nn.Flatten()\n",
        "flatten_layer(dummy_x_2).shape"
      ],
      "metadata": {
        "colab": {
          "base_uri": "https://localhost:8080/"
        },
        "id": "KCabN8BaQS1N",
        "outputId": "5f9e1d7d-f5fd-4eba-a68f-fc7f34595178"
      },
      "execution_count": 26,
      "outputs": [
        {
          "output_type": "execute_result",
          "data": {
            "text/plain": [
              "torch.Size([1, 490])"
            ]
          },
          "metadata": {},
          "execution_count": 26
        }
      ]
    },
    {
      "cell_type": "markdown",
      "source": [
        "## 9. Train the model you built in exercise 8. for 5 epochs on CPU and GPU and see how long it takes on each."
      ],
      "metadata": {
        "id": "sf_3zUr7xlhy"
      }
    },
    {
      "cell_type": "markdown",
      "source": [
        "Train step function"
      ],
      "metadata": {
        "id": "2xVCrhYGRejA"
      }
    },
    {
      "cell_type": "code",
      "source": [
        "def train_step(model: torch.nn.Module,\n",
        "               data_loader: torch.utils.data.DataLoader,\n",
        "               loss_fn: torch.nn.Module,\n",
        "               optimizer: torch.optim.Optimizer,\n",
        "               accuracy_fn,\n",
        "               device: torch.device = device):\n",
        "  \"\"\"Performs a training with model trying to learn on data_loader.\"\"\"\n",
        "  train_loss, train_acc = 0, 0\n",
        "\n",
        "  # Put model into training mode\n",
        "  model.train()\n",
        "\n",
        "  # Add a loop to loop through the training batches\n",
        "  for batch, (X, y) in enumerate(data_loader):\n",
        "    # Put data on target device\n",
        "    X, y = X.to(device), y.to(device)\n",
        "\n",
        "    # 1. Forward pass (outputs the raw logits from the model)\n",
        "    y_pred = model(X)\n",
        "\n",
        "    # 2. Calculate loss and accuracy (per batch)\n",
        "    loss = loss_fn(y_pred, y)\n",
        "    train_loss += loss # accumulate train loss\n",
        "    train_acc += accuracy_fn(y_true=y,\n",
        "                             y_pred=y_pred.argmax(dim=1)) # go from logits -> prediction labels\n",
        "\n",
        "    # 3. Optimizer zero grad\n",
        "    optimizer.zero_grad()\n",
        "\n",
        "    # 4. Loss backward\n",
        "    loss.backward()\n",
        "\n",
        "    # 5. Optimizer step (update the model's parameters once *per batch*)\n",
        "    optimizer.step()\n",
        "\n",
        "  # Divide total train loss and acc by length of train dataloader\n",
        "  train_loss /= len(data_loader)\n",
        "  train_acc /= len(data_loader)\n",
        "  print(f\"Train loss: {train_loss:.5f} | Train acc: {train_acc:.2f}%\")"
      ],
      "metadata": {
        "id": "dKtq6VPqRBBu"
      },
      "execution_count": 27,
      "outputs": []
    },
    {
      "cell_type": "markdown",
      "source": [
        "Test step function"
      ],
      "metadata": {
        "id": "MPCIUwTARgo_"
      }
    },
    {
      "cell_type": "code",
      "source": [
        " def test_step(model: torch.nn.Module,\n",
        "              data_loader: torch.utils.data.DataLoader,\n",
        "              loss_fn: torch.nn.Module,\n",
        "              accuracy_fn,\n",
        "              device: torch.device = device):\n",
        "  \"\"\"Performs a testing loop step on model going over data_loader.\"\"\"\n",
        "  test_loss, test_acc = 0, 0\n",
        "\n",
        "  # Put the model in eval mode\n",
        "  model.eval()\n",
        "\n",
        "  # Turn on inference mode context manager\n",
        "  with torch.inference_mode():\n",
        "    for X, y in data_loader:\n",
        "      # Send the data to the target device\n",
        "      X, y = X.to(device), y.to(device)\n",
        "\n",
        "      # 1. Forward pass (outputs raw logits)\n",
        "      test_pred = model(X)\n",
        "\n",
        "      # 2. Calculuate the loss/acc\n",
        "      test_loss += loss_fn(test_pred, y)\n",
        "      test_acc += accuracy_fn(y_true=y,\n",
        "                              y_pred=test_pred.argmax(dim=1)) # go from logits -> prediction labels\n",
        "\n",
        "    # Adjust metrics and print out\n",
        "    test_loss /= len(data_loader)\n",
        "    test_acc /= len(data_loader)\n",
        "    print(f\"Test loss: {test_loss:.5f} | Test acc: {test_acc:.2f}%\\n\")"
      ],
      "metadata": {
        "id": "1mQpuQw2RD76"
      },
      "execution_count": 28,
      "outputs": []
    },
    {
      "cell_type": "markdown",
      "source": [
        "Accuracy, loss function and optimiser"
      ],
      "metadata": {
        "id": "jaHHjZdMRjB0"
      }
    },
    {
      "cell_type": "code",
      "source": [
        "import requests\n",
        "from pathlib import Path\n",
        "\n",
        "# Download helper functions from Learn PyTorch repo\n",
        "if Path(\"helper_functions.py\").is_file():\n",
        "  print(\"helper_functions.py already exists, skipping download...\")\n",
        "else:\n",
        "  print(\"Downloading helper_functions.py\")\n",
        "  request = requests.get(\"https://raw.githubusercontent.com/mrdbourke/pytorch-deep-learning/main/helper_functions.py\")\n",
        "  with open(\"helper_functions.py\", \"wb\") as f:\n",
        "    f.write(request.content)"
      ],
      "metadata": {
        "colab": {
          "base_uri": "https://localhost:8080/"
        },
        "id": "ZUyJXXfKRan7",
        "outputId": "d3f58db1-93cb-4c4a-e683-9519b0ee7f2b"
      },
      "execution_count": 30,
      "outputs": [
        {
          "output_type": "stream",
          "name": "stdout",
          "text": [
            "Downloading helper_functions.py\n"
          ]
        }
      ]
    },
    {
      "cell_type": "code",
      "source": [
        "from helper_functions import accuracy_fn\n",
        "loss_fn = nn.CrossEntropyLoss() # measure how wrong our model is\n",
        "optimizer = torch.optim.SGD(params=model.parameters(), # tries to update our model's parameters to reduce the loss\n",
        "                            lr=0.1)"
      ],
      "metadata": {
        "id": "dkUMrGJlROsh"
      },
      "execution_count": 32,
      "outputs": []
    },
    {
      "cell_type": "markdown",
      "source": [
        "Time function"
      ],
      "metadata": {
        "id": "nf0bbLbrR3yl"
      }
    },
    {
      "cell_type": "code",
      "source": [
        "from timeit import default_timer as timer\n",
        "def print_train_time(start: float,\n",
        "                     end: float,\n",
        "                     device: torch.device = None):\n",
        "  \"\"\"Prints difference between start and end time.\"\"\"\n",
        "  total_time = end - start\n",
        "  print(f\"Train time on {device}: {total_time:.3f} seconds\")\n",
        "  return total_time"
      ],
      "metadata": {
        "id": "EaVUhmTsR4ZZ"
      },
      "execution_count": 33,
      "outputs": []
    },
    {
      "cell_type": "code",
      "source": [
        "from tqdm import tqdm\n",
        "torch.manual_seed(42)\n",
        "torch.cuda.manual_seed(42)\n",
        "\n",
        "# Measure time\n",
        "from timeit import default_timer as timer\n",
        "train_time_start_model_2 = timer()\n",
        "\n",
        "# Set epochs\n",
        "epochs = 5\n",
        "\n",
        "# Create a optimization and evaluation loop using train_step() and test_step()\n",
        "for epoch in tqdm(range(epochs)):\n",
        "  print(f\"Epoch: {epoch}\\n----------\")\n",
        "  train_step(model=model,\n",
        "             data_loader=train_dataloader,\n",
        "             loss_fn=loss_fn,\n",
        "             optimizer=optimizer,\n",
        "             accuracy_fn=accuracy_fn,\n",
        "             device=device)\n",
        "  test_step(model=model,\n",
        "            data_loader=test_dataloader,\n",
        "            loss_fn=loss_fn,\n",
        "            accuracy_fn=accuracy_fn,\n",
        "            device=device)\n",
        "\n",
        "train_time_end_model_2 = timer()\n",
        "total_train_time_model_2 = print_train_time(start=train_time_start_model_2,\n",
        "                                            end=train_time_end_model_2,\n",
        "                                            device='cpu')"
      ],
      "metadata": {
        "id": "jSo6vVWFbNLD",
        "colab": {
          "base_uri": "https://localhost:8080/"
        },
        "outputId": "bd5f74a8-babe-4b54-a1dd-6b3c6ebc9676"
      },
      "execution_count": 35,
      "outputs": [
        {
          "output_type": "stream",
          "name": "stderr",
          "text": [
            "\r  0%|          | 0/5 [00:00<?, ?it/s]"
          ]
        },
        {
          "output_type": "stream",
          "name": "stdout",
          "text": [
            "Epoch: 0\n",
            "----------\n",
            "Train loss: 0.31042 | Train acc: 89.50%\n"
          ]
        },
        {
          "output_type": "stream",
          "name": "stderr",
          "text": [
            "\r 20%|██        | 1/5 [00:14<00:58, 14.54s/it]"
          ]
        },
        {
          "output_type": "stream",
          "name": "stdout",
          "text": [
            "Test loss: 0.06680 | Test acc: 98.28%\n",
            "\n",
            "Epoch: 1\n",
            "----------\n",
            "Train loss: 0.06802 | Train acc: 97.90%\n"
          ]
        },
        {
          "output_type": "stream",
          "name": "stderr",
          "text": [
            "\r 40%|████      | 2/5 [00:28<00:42, 14.06s/it]"
          ]
        },
        {
          "output_type": "stream",
          "name": "stdout",
          "text": [
            "Test loss: 0.04165 | Test acc: 98.62%\n",
            "\n",
            "Epoch: 2\n",
            "----------\n",
            "Train loss: 0.05332 | Train acc: 98.41%\n"
          ]
        },
        {
          "output_type": "stream",
          "name": "stderr",
          "text": [
            "\r 60%|██████    | 3/5 [00:40<00:26, 13.10s/it]"
          ]
        },
        {
          "output_type": "stream",
          "name": "stdout",
          "text": [
            "Test loss: 0.04824 | Test acc: 98.39%\n",
            "\n",
            "Epoch: 3\n",
            "----------\n",
            "Train loss: 0.04515 | Train acc: 98.63%\n"
          ]
        },
        {
          "output_type": "stream",
          "name": "stderr",
          "text": [
            "\r 80%|████████  | 4/5 [00:52<00:12, 12.69s/it]"
          ]
        },
        {
          "output_type": "stream",
          "name": "stdout",
          "text": [
            "Test loss: 0.04318 | Test acc: 98.48%\n",
            "\n",
            "Epoch: 4\n",
            "----------\n",
            "Train loss: 0.03926 | Train acc: 98.78%\n"
          ]
        },
        {
          "output_type": "stream",
          "name": "stderr",
          "text": [
            "100%|██████████| 5/5 [01:04<00:00, 12.87s/it]"
          ]
        },
        {
          "output_type": "stream",
          "name": "stdout",
          "text": [
            "Test loss: 0.03844 | Test acc: 98.64%\n",
            "\n",
            "Train time on cpu: 64.335 seconds\n"
          ]
        },
        {
          "output_type": "stream",
          "name": "stderr",
          "text": [
            "\n"
          ]
        }
      ]
    },
    {
      "cell_type": "code",
      "source": [
        "torch.manual_seed(42)\n",
        "torch.cuda.manual_seed(42)\n",
        "\n",
        "# Measure time\n",
        "from timeit import default_timer as timer\n",
        "train_time_start_model_2 = timer()\n",
        "\n",
        "# Set epochs\n",
        "epochs = 5\n",
        "\n",
        "# Create a optimization and evaluation loop using train_step() and test_step()\n",
        "for epoch in tqdm(range(epochs)):\n",
        "  print(f\"Epoch: {epoch}\\n----------\")\n",
        "  train_step(model=model,\n",
        "             data_loader=train_dataloader,\n",
        "             loss_fn=loss_fn,\n",
        "             optimizer=optimizer,\n",
        "             accuracy_fn=accuracy_fn,\n",
        "             device=device)\n",
        "  test_step(model=model,\n",
        "            data_loader=test_dataloader,\n",
        "            loss_fn=loss_fn,\n",
        "            accuracy_fn=accuracy_fn,\n",
        "            device=device)\n",
        "\n",
        "train_time_end_model_2 = timer()\n",
        "total_train_time_model_2 = print_train_time(start=train_time_start_model_2,\n",
        "                                            end=train_time_end_model_2,\n",
        "                                            device='cuda')"
      ],
      "metadata": {
        "colab": {
          "base_uri": "https://localhost:8080/"
        },
        "id": "75NHP7wuSFeW",
        "outputId": "436bcb45-2448-4f54-f872-c69872cb71f5"
      },
      "execution_count": 36,
      "outputs": [
        {
          "output_type": "stream",
          "name": "stderr",
          "text": [
            "\r  0%|          | 0/5 [00:00<?, ?it/s]"
          ]
        },
        {
          "output_type": "stream",
          "name": "stdout",
          "text": [
            "Epoch: 0\n",
            "----------\n",
            "Train loss: 0.03575 | Train acc: 98.88%\n"
          ]
        },
        {
          "output_type": "stream",
          "name": "stderr",
          "text": [
            "\r 20%|██        | 1/5 [00:11<00:47, 11.91s/it]"
          ]
        },
        {
          "output_type": "stream",
          "name": "stdout",
          "text": [
            "Test loss: 0.03723 | Test acc: 98.88%\n",
            "\n",
            "Epoch: 1\n",
            "----------\n",
            "Train loss: 0.03218 | Train acc: 98.97%\n"
          ]
        },
        {
          "output_type": "stream",
          "name": "stderr",
          "text": [
            "\r 40%|████      | 2/5 [00:23<00:35, 11.92s/it]"
          ]
        },
        {
          "output_type": "stream",
          "name": "stdout",
          "text": [
            "Test loss: 0.03633 | Test acc: 98.85%\n",
            "\n",
            "Epoch: 2\n",
            "----------\n",
            "Train loss: 0.02890 | Train acc: 99.12%\n"
          ]
        },
        {
          "output_type": "stream",
          "name": "stderr",
          "text": [
            "\r 60%|██████    | 3/5 [00:35<00:23, 11.90s/it]"
          ]
        },
        {
          "output_type": "stream",
          "name": "stdout",
          "text": [
            "Test loss: 0.03974 | Test acc: 98.66%\n",
            "\n",
            "Epoch: 3\n",
            "----------\n",
            "Train loss: 0.02817 | Train acc: 99.11%\n"
          ]
        },
        {
          "output_type": "stream",
          "name": "stderr",
          "text": [
            "\r 80%|████████  | 4/5 [00:47<00:11, 11.91s/it]"
          ]
        },
        {
          "output_type": "stream",
          "name": "stdout",
          "text": [
            "Test loss: 0.03038 | Test acc: 98.92%\n",
            "\n",
            "Epoch: 4\n",
            "----------\n",
            "Train loss: 0.02558 | Train acc: 99.21%\n"
          ]
        },
        {
          "output_type": "stream",
          "name": "stderr",
          "text": [
            "100%|██████████| 5/5 [01:02<00:00, 12.48s/it]"
          ]
        },
        {
          "output_type": "stream",
          "name": "stdout",
          "text": [
            "Test loss: 0.03478 | Test acc: 98.85%\n",
            "\n",
            "Train time on cuda: 62.384 seconds\n"
          ]
        },
        {
          "output_type": "stream",
          "name": "stderr",
          "text": [
            "\n"
          ]
        }
      ]
    },
    {
      "cell_type": "markdown",
      "source": [
        "## 10. Evaluate the model"
      ],
      "metadata": {
        "id": "OLv485XiUV07"
      }
    },
    {
      "cell_type": "markdown",
      "source": [
        "Eval model function"
      ],
      "metadata": {
        "id": "1V3FsYl1SyoH"
      }
    },
    {
      "cell_type": "code",
      "source": [
        "def eval_model(model: torch.nn.Module,\n",
        "               data_loader: torch.utils.data.DataLoader,\n",
        "               loss_fn: torch.nn.Module,\n",
        "               accuracy_fn,\n",
        "               device=device):\n",
        "  \"\"\"Returns a dictionary containing the results of model predicting on data_loader.\"\"\"\n",
        "  loss, acc = 0, 0\n",
        "  model.eval()\n",
        "  with torch.inference_mode():\n",
        "    for X, y in tqdm(data_loader):\n",
        "      # Make our data device agnostic\n",
        "      X, y = X.to(device), y.to(device)\n",
        "      # Make predictions\n",
        "      y_pred = model(X)\n",
        "\n",
        "      # Accumulate the loss and acc values per batch\n",
        "      loss += loss_fn(y_pred, y)\n",
        "      acc += accuracy_fn(y_true=y,\n",
        "                         y_pred=y_pred.argmax(dim=1))\n",
        "\n",
        "    # Scale loss and acc to find the average loss/acc per batch\n",
        "    loss /= len(data_loader)\n",
        "    acc /= len(data_loader)\n",
        "\n",
        "  return {\"model_name\": model.__class__.__name__, # only works when model was created with a class\n",
        "          \"model_loss\": loss.item(),\n",
        "          \"model_acc\": acc}\n"
      ],
      "metadata": {
        "id": "Fn14Ugf1SxkI"
      },
      "execution_count": 44,
      "outputs": []
    },
    {
      "cell_type": "code",
      "source": [
        "model_results = eval_model(\n",
        "     model=model,\n",
        "     data_loader=test_dataloader,\n",
        "     loss_fn=loss_fn,\n",
        "     accuracy_fn=accuracy_fn,\n",
        "     device=device\n",
        ")\n",
        "\n",
        "model_results"
      ],
      "metadata": {
        "id": "_YGgZvSobNxu",
        "colab": {
          "base_uri": "https://localhost:8080/"
        },
        "outputId": "f17e92d7-633f-429f-e126-cf23aec30787"
      },
      "execution_count": 45,
      "outputs": [
        {
          "output_type": "stream",
          "name": "stderr",
          "text": [
            "100%|██████████| 313/313 [00:01<00:00, 229.06it/s]\n"
          ]
        },
        {
          "output_type": "execute_result",
          "data": {
            "text/plain": [
              "{'model_name': 'HandwrittenDigitsMNISTModel',\n",
              " 'model_loss': 0.03478469327092171,\n",
              " 'model_acc': 98.85183706070288}"
            ]
          },
          "metadata": {},
          "execution_count": 45
        }
      ]
    },
    {
      "cell_type": "code",
      "source": [
        "device"
      ],
      "metadata": {
        "colab": {
          "base_uri": "https://localhost:8080/",
          "height": 36
        },
        "id": "hU_Ux6hyTXCM",
        "outputId": "ed6d87dd-599c-442f-8111-dbf59e14cc48"
      },
      "execution_count": 46,
      "outputs": [
        {
          "output_type": "execute_result",
          "data": {
            "text/plain": [
              "'cuda'"
            ],
            "application/vnd.google.colaboratory.intrinsic+json": {
              "type": "string"
            }
          },
          "metadata": {},
          "execution_count": 46
        }
      ]
    },
    {
      "cell_type": "markdown",
      "source": [
        "## 11. Make predictions using your trained model and visualize at least 5 of them comparing the prediciton to the target label."
      ],
      "metadata": {
        "id": "w1CsHhPpxp1w"
      }
    },
    {
      "cell_type": "code",
      "source": [
        "def make_predictions(model: torch.nn.Module,\n",
        "                     data: list,\n",
        "                     device: torch.device = device):\n",
        "  pred_probs = []\n",
        "  model.to(device)\n",
        "  model.eval()\n",
        "  with torch.inference_mode():\n",
        "    for sample in data:\n",
        "      # Prepare the sample (add a batch dimension and pass to target device)\n",
        "      sample = torch.unsqueeze(sample, dim=0).to(device)\n",
        "\n",
        "      # Forward pass (model outputs raw logits)\n",
        "      pred_logit = model(sample)\n",
        "\n",
        "      # Get prediction probability (logit -> prediction probability)\n",
        "      pred_prob = torch.softmax(pred_logit.squeeze(), dim=0)\n",
        "\n",
        "      # Get pred_prob off the GPU for further calculations\n",
        "      pred_probs.append(pred_prob.cpu())\n",
        "\n",
        "  # Stack the pred_probs to turn list into a tensor\n",
        "  return torch.stack(pred_probs)"
      ],
      "metadata": {
        "id": "41wWuoqAT6vN"
      },
      "execution_count": 48,
      "outputs": []
    },
    {
      "cell_type": "code",
      "source": [
        "import random\n",
        "# random.seed(42)\n",
        "test_samples = []\n",
        "test_labels = []\n",
        "for sample, label in random.sample(list(test_data), k=5):\n",
        "  test_samples.append(sample)\n",
        "  test_labels.append(label)\n",
        "\n",
        "# View the first sample shape\n",
        "test_samples[0].shape"
      ],
      "metadata": {
        "colab": {
          "base_uri": "https://localhost:8080/"
        },
        "id": "-pFufsGfTqch",
        "outputId": "4d8cf6a9-e7f4-4191-b043-5414fcae33c5"
      },
      "execution_count": 47,
      "outputs": [
        {
          "output_type": "execute_result",
          "data": {
            "text/plain": [
              "torch.Size([1, 28, 28])"
            ]
          },
          "metadata": {},
          "execution_count": 47
        }
      ]
    },
    {
      "cell_type": "code",
      "source": [
        "# Make predictions\n",
        "pred_probs = make_predictions(model=model,\n",
        "                              data=test_samples)\n",
        "\n",
        "# View first two prediction probabilities\n",
        "pred_probs[:2]"
      ],
      "metadata": {
        "colab": {
          "base_uri": "https://localhost:8080/"
        },
        "id": "Q8JjqTehUBPo",
        "outputId": "79288891-1689-4ae6-f30b-b5943fdb4f3d"
      },
      "execution_count": 49,
      "outputs": [
        {
          "output_type": "execute_result",
          "data": {
            "text/plain": [
              "tensor([[5.8563e-08, 1.0122e-09, 6.6152e-07, 1.8332e-06, 1.4695e-15, 9.0210e-04,\n",
              "         2.6444e-07, 6.0309e-09, 9.9909e-01, 4.2016e-07],\n",
              "        [1.3877e-11, 4.3379e-13, 6.5278e-10, 7.7189e-10, 6.0420e-07, 1.9349e-10,\n",
              "         3.4181e-14, 5.0913e-07, 3.2818e-07, 1.0000e+00]])"
            ]
          },
          "metadata": {},
          "execution_count": 49
        }
      ]
    },
    {
      "cell_type": "code",
      "source": [
        "pred_classes = pred_probs.argmax(dim=1)\n",
        "pred_classes"
      ],
      "metadata": {
        "colab": {
          "base_uri": "https://localhost:8080/"
        },
        "id": "0rThFIRPUI8P",
        "outputId": "d155e284-6ec3-4706-9445-32a21bb65a54"
      },
      "execution_count": 51,
      "outputs": [
        {
          "output_type": "execute_result",
          "data": {
            "text/plain": [
              "tensor([8, 9, 3, 6, 5])"
            ]
          },
          "metadata": {},
          "execution_count": 51
        }
      ]
    },
    {
      "cell_type": "code",
      "source": [
        "# Plot predictions\n",
        "plt.figure(figsize=(9, 9))\n",
        "nrows = 3\n",
        "ncols = 3\n",
        "for i, sample in enumerate(test_samples):\n",
        "  # Create subplot\n",
        "  plt.subplot(nrows, ncols, i+1)\n",
        "\n",
        "  # Plot the target image\n",
        "  plt.imshow(sample.squeeze(), cmap=\"gray\")\n",
        "\n",
        "  # Find the prediction (in text form, e.g \"Sandal\")\n",
        "  pred_label = class_names[pred_classes[i]]\n",
        "\n",
        "  # Get the truth label (in text form)\n",
        "  truth_label = class_names[test_labels[i]]\n",
        "\n",
        "  # Create a title for the plot\n",
        "  title_text = f\"Pred: {pred_label} | Truth: {truth_label}\"\n",
        "\n",
        "  # Check for equality between pred and truth and change color of title text\n",
        "  if pred_label == truth_label:\n",
        "    plt.title(title_text, fontsize=10, c=\"g\") # green text if prediction same as truth\n",
        "  else:\n",
        "    plt.title(title_text, fontsize=10, c=\"r\")\n",
        "\n",
        "  plt.axis(False);"
      ],
      "metadata": {
        "colab": {
          "base_uri": "https://localhost:8080/",
          "height": 504
        },
        "id": "vrPeLypYTh-m",
        "outputId": "5d5ef77e-a584-41fb-9288-df67bd6d50eb"
      },
      "execution_count": 52,
      "outputs": [
        {
          "output_type": "display_data",
          "data": {
            "text/plain": [
              "<Figure size 900x900 with 5 Axes>"
            ],
            "image/png": "[encoded data removed]"
          },
          "metadata": {}
        }
      ]
    },
    {
      "cell_type": "markdown",
      "source": [
        "## 12. Plot a confusion matrix comparing your model's predictions to the truth labels."
      ],
      "metadata": {
        "id": "qQwzqlBWxrpG"
      }
    },
    {
      "cell_type": "code",
      "source": [
        "# Import tqdm.auto\n",
        "from tqdm.auto import tqdm\n",
        "\n",
        "# 1. Make predictions with trained model\n",
        "y_preds = []\n",
        "model.eval()\n",
        "with torch.inference_mode():\n",
        "  for X, y in tqdm(test_dataloader, desc=\"Making predictions...\"):\n",
        "    # Send the data and targets to target device\n",
        "    X, y = X.to(device), y.to(device)\n",
        "    # Do the forward pass\n",
        "    y_logit = model(X)\n",
        "    # Turn predictions from logits -> prediction probabilities -> prediction labels\n",
        "    y_pred = torch.softmax(y_logit.squeeze(), dim=0).argmax(dim=1)\n",
        "    # Put prediction on CPU for evaluation\n",
        "    y_preds.append(y_pred.cpu())\n",
        "\n",
        "# Concatenate list of predictions into a tensor\n",
        "# print(y_preds)\n",
        "y_pred_tensor = torch.cat(y_preds)\n",
        "y_pred_tensor"
      ],
      "metadata": {
        "colab": {
          "base_uri": "https://localhost:8080/",
          "height": 66,
          "referenced_widgets": [
            "eb2c3b032b3f49219c4c5f1f2c1690e7",
            "89bc8f858e604308975b5d744026864e",
            "23ae559098e84a50bae40cb9f4ff1b2d",
            "3a84d9c60fce4fd69335c587463f632a",
            "021cc3d151a14cbe8ded5ad4918a36b5",
            "6b23ea75d925493b995d4f2ef5ce87c7",
            "c9a93baf81834171b896f016e25925c2",
            "477519b49a934a6b8d4a3b6f465e070a",
            "2e77af17c18e45aaa11dc2a1a9ed15fd",
            "f31d0c327c3241faa31e876b43c81f72",
            "b5b75bc5bd7d4c8a8fe5dc3d47d8e339"
          ]
        },
        "id": "tS3c8vB1XPj9",
        "outputId": "b06088dc-5c4e-4915-b698-01a111ae68cd"
      },
      "execution_count": 54,
      "outputs": [
        {
          "output_type": "display_data",
          "data": {
            "text/plain": [
              "Making predictions...:   0%|          | 0/313 [00:00<?, ?it/s]"
            ],
            "application/vnd.jupyter.widget-view+json": {
              "version_major": 2,
              "version_minor": 0,
              "model_id": "eb2c3b032b3f49219c4c5f1f2c1690e7"
            }
          },
          "metadata": {}
        },
        {
          "output_type": "execute_result",
          "data": {
            "text/plain": [
              "tensor([7, 2, 1,  ..., 4, 5, 6])"
            ]
          },
          "metadata": {},
          "execution_count": 54
        }
      ]
    },
    {
      "cell_type": "code",
      "source": [
        "len(y_pred_tensor)"
      ],
      "metadata": {
        "colab": {
          "base_uri": "https://localhost:8080/"
        },
        "id": "qDdJwd6KXUj1",
        "outputId": "5561282d-9686-40a3-a2ba-2e5015bceae8"
      },
      "execution_count": 55,
      "outputs": [
        {
          "output_type": "execute_result",
          "data": {
            "text/plain": [
              "10000"
            ]
          },
          "metadata": {},
          "execution_count": 55
        }
      ]
    },
    {
      "cell_type": "code",
      "source": [
        "!pip install torchmetrics"
      ],
      "metadata": {
        "colab": {
          "base_uri": "https://localhost:8080/"
        },
        "id": "Kz2LmgqsXlmJ",
        "outputId": "83b61d37-b233-4061-b711-b616518cab96"
      },
      "execution_count": 57,
      "outputs": [
        {
          "output_type": "stream",
          "name": "stdout",
          "text": [
            "Collecting torchmetrics\n",
            "  Downloading torchmetrics-1.4.0.post0-py3-none-any.whl (868 kB)\n",
            "\u001b[?25l     \u001b[90m━━━━━━━━━━━━━━━━━━━━━━━━━━━━━━━━━━━━━━━━\u001b[0m \u001b[32m0.0/868.8 kB\u001b[0m \u001b[31m?\u001b[0m eta \u001b[36m-:--:--\u001b[0m\r\u001b[2K     \u001b[91m━━━━━━━━━━\u001b[0m\u001b[91m╸\u001b[0m\u001b[90m━━━━━━━━━━━━━━━━━━━━━━━━━━━━━\u001b[0m \u001b[32m235.5/868.8 kB\u001b[0m \u001b[31m7.2 MB/s\u001b[0m eta \u001b[36m0:00:01\u001b[0m\r\u001b[2K     \u001b[91m━━━━━━━━━━━━━━━━━━━━━━━━━━━━━━━━━━━━━━━\u001b[0m\u001b[91m╸\u001b[0m \u001b[32m860.2/868.8 kB\u001b[0m \u001b[31m13.2 MB/s\u001b[0m eta \u001b[36m0:00:01\u001b[0m\r\u001b[2K     \u001b[90m━━━━━━━━━━━━━━━━━━━━━━━━━━━━━━━━━━━━━━━━\u001b[0m \u001b[32m868.8/868.8 kB\u001b[0m \u001b[31m10.9 MB/s\u001b[0m eta \u001b[36m0:00:00\u001b[0m\n",
            "\u001b[?25hRequirement already satisfied: numpy>1.20.0 in /usr/local/lib/python3.10/dist-packages (from torchmetrics) (1.25.2)\n",
            "Requirement already satisfied: packaging>17.1 in /usr/local/lib/python3.10/dist-packages (from torchmetrics) (24.1)\n",
            "Requirement already satisfied: torch>=1.10.0 in /usr/local/lib/python3.10/dist-packages (from torchmetrics) (2.3.1+cu121)\n",
            "Collecting lightning-utilities>=0.8.0 (from torchmetrics)\n",
            "  Downloading lightning_utilities-0.11.5-py3-none-any.whl (26 kB)\n",
            "Requirement already satisfied: setuptools in /usr/local/lib/python3.10/dist-packages (from lightning-utilities>=0.8.0->torchmetrics) (67.7.2)\n",
            "Requirement already satisfied: typing-extensions in /usr/local/lib/python3.10/dist-packages (from lightning-utilities>=0.8.0->torchmetrics) (4.12.2)\n",
            "Requirement already satisfied: filelock in /usr/local/lib/python3.10/dist-packages (from torch>=1.10.0->torchmetrics) (3.15.4)\n",
            "Requirement already satisfied: sympy in /usr/local/lib/python3.10/dist-packages (from torch>=1.10.0->torchmetrics) (1.13.0)\n",
            "Requirement already satisfied: networkx in /usr/local/lib/python3.10/dist-packages (from torch>=1.10.0->torchmetrics) (3.3)\n",
            "Requirement already satisfied: jinja2 in /usr/local/lib/python3.10/dist-packages (from torch>=1.10.0->torchmetrics) (3.1.4)\n",
            "Requirement already satisfied: fsspec in /usr/local/lib/python3.10/dist-packages (from torch>=1.10.0->torchmetrics) (2023.6.0)\n",
            "Collecting nvidia-cuda-nvrtc-cu12==12.1.105 (from torch>=1.10.0->torchmetrics)\n",
            "  Using cached nvidia_cuda_nvrtc_cu12-12.1.105-py3-none-manylinux1_x86_64.whl (23.7 MB)\n",
            "Collecting nvidia-cuda-runtime-cu12==12.1.105 (from torch>=1.10.0->torchmetrics)\n",
            "  Using cached nvidia_cuda_runtime_cu12-12.1.105-py3-none-manylinux1_x86_64.whl (823 kB)\n",
            "Collecting nvidia-cuda-cupti-cu12==12.1.105 (from torch>=1.10.0->torchmetrics)\n",
            "  Using cached nvidia_cuda_cupti_cu12-12.1.105-py3-none-manylinux1_x86_64.whl (14.1 MB)\n",
            "Collecting nvidia-cudnn-cu12==8.9.2.26 (from torch>=1.10.0->torchmetrics)\n",
            "  Using cached nvidia_cudnn_cu12-8.9.2.26-py3-none-manylinux1_x86_64.whl (731.7 MB)\n",
            "Collecting nvidia-cublas-cu12==12.1.3.1 (from torch>=1.10.0->torchmetrics)\n",
            "  Using cached nvidia_cublas_cu12-12.1.3.1-py3-none-manylinux1_x86_64.whl (410.6 MB)\n",
            "Collecting nvidia-cufft-cu12==11.0.2.54 (from torch>=1.10.0->torchmetrics)\n",
            "  Using cached nvidia_cufft_cu12-11.0.2.54-py3-none-manylinux1_x86_64.whl (121.6 MB)\n",
            "Collecting nvidia-curand-cu12==10.3.2.106 (from torch>=1.10.0->torchmetrics)\n",
            "  Using cached nvidia_curand_cu12-10.3.2.106-py3-none-manylinux1_x86_64.whl (56.5 MB)\n",
            "Collecting nvidia-cusolver-cu12==11.4.5.107 (from torch>=1.10.0->torchmetrics)\n",
            "  Using cached nvidia_cusolver_cu12-11.4.5.107-py3-none-manylinux1_x86_64.whl (124.2 MB)\n",
            "Collecting nvidia-cusparse-cu12==12.1.0.106 (from torch>=1.10.0->torchmetrics)\n",
            "  Using cached nvidia_cusparse_cu12-12.1.0.106-py3-none-manylinux1_x86_64.whl (196.0 MB)\n",
            "Collecting nvidia-nccl-cu12==2.20.5 (from torch>=1.10.0->torchmetrics)\n",
            "  Using cached nvidia_nccl_cu12-2.20.5-py3-none-manylinux2014_x86_64.whl (176.2 MB)\n",
            "Collecting nvidia-nvtx-cu12==12.1.105 (from torch>=1.10.0->torchmetrics)\n",
            "  Using cached nvidia_nvtx_cu12-12.1.105-py3-none-manylinux1_x86_64.whl (99 kB)\n",
            "Requirement already satisfied: triton==2.3.1 in /usr/local/lib/python3.10/dist-packages (from torch>=1.10.0->torchmetrics) (2.3.1)\n",
            "Collecting nvidia-nvjitlink-cu12 (from nvidia-cusolver-cu12==11.4.5.107->torch>=1.10.0->torchmetrics)\n",
            "  Downloading nvidia_nvjitlink_cu12-12.5.82-py3-none-manylinux2014_x86_64.whl (21.3 MB)\n",
            "\u001b[2K     \u001b[90m━━━━━━━━━━━━━━━━━━━━━━━━━━━━━━━━━━━━━━━━\u001b[0m \u001b[32m21.3/21.3 MB\u001b[0m \u001b[31m57.6 MB/s\u001b[0m eta \u001b[36m0:00:00\u001b[0m\n",
            "\u001b[?25hRequirement already satisfied: MarkupSafe>=2.0 in /usr/local/lib/python3.10/dist-packages (from jinja2->torch>=1.10.0->torchmetrics) (2.1.5)\n",
            "Requirement already satisfied: mpmath<1.4,>=1.1.0 in /usr/local/lib/python3.10/dist-packages (from sympy->torch>=1.10.0->torchmetrics) (1.3.0)\n",
            "Installing collected packages: nvidia-nvtx-cu12, nvidia-nvjitlink-cu12, nvidia-nccl-cu12, nvidia-curand-cu12, nvidia-cufft-cu12, nvidia-cuda-runtime-cu12, nvidia-cuda-nvrtc-cu12, nvidia-cuda-cupti-cu12, nvidia-cublas-cu12, lightning-utilities, nvidia-cusparse-cu12, nvidia-cudnn-cu12, nvidia-cusolver-cu12, torchmetrics\n",
            "Successfully installed lightning-utilities-0.11.5 nvidia-cublas-cu12-12.1.3.1 nvidia-cuda-cupti-cu12-12.1.105 nvidia-cuda-nvrtc-cu12-12.1.105 nvidia-cuda-runtime-cu12-12.1.105 nvidia-cudnn-cu12-8.9.2.26 nvidia-cufft-cu12-11.0.2.54 nvidia-curand-cu12-10.3.2.106 nvidia-cusolver-cu12-11.4.5.107 nvidia-cusparse-cu12-12.1.0.106 nvidia-nccl-cu12-2.20.5 nvidia-nvjitlink-cu12-12.5.82 nvidia-nvtx-cu12-12.1.105 torchmetrics-1.4.0.post0\n"
          ]
        }
      ]
    },
    {
      "cell_type": "code",
      "source": [
        "from torchmetrics import ConfusionMatrix\n",
        "from mlxtend.plotting import plot_confusion_matrix\n",
        "\n",
        "# 2. Setup confusion instance and compare predictions to targets\n",
        "confmat = ConfusionMatrix(task='multiclass', num_classes=len(class_names)) # Add task argument\n",
        "confmat_tensor = confmat(preds=y_pred_tensor,\n",
        "                         target=test_data.targets)\n",
        "\n",
        "# 3. Plot the confusion matrix\n",
        "fig, ax = plot_confusion_matrix(\n",
        "    conf_mat=confmat_tensor.numpy(), # matplotlib likes working with numpy\n",
        "    class_names=class_names,\n",
        "    figsize=(10, 7)\n",
        ")"
      ],
      "metadata": {
        "id": "vSrXiT_AbQ6e",
        "colab": {
          "base_uri": "https://localhost:8080/",
          "height": 660
        },
        "outputId": "caefbb92-35bd-44a8-e6d6-8ee7f57345a8"
      },
      "execution_count": 58,
      "outputs": [
        {
          "output_type": "display_data",
          "data": {
            "text/plain": [
              "<Figure size 1000x700 with 1 Axes>"
            ],
            "image/png": "[encoded data removed]"
          },
          "metadata": {}
        }
      ]
    },
    {
      "cell_type": "markdown",
      "source": [
        "## 13. Create a random tensor of shape `[1, 3, 64, 64]` and pass it through a `nn.Conv2d()` layer with various hyperparameter settings (these can be any settings you choose), what do you notice if the `kernel_size` parameter goes up and down?"
      ],
      "metadata": {
        "id": "lj6bDhoWxt2y"
      }
    },
    {
      "cell_type": "code",
      "source": [
        "random_tensor = torch.rand([1, 3, 64, 64])\n",
        "random_tensor.shape"
      ],
      "metadata": {
        "id": "leCTsqtSbR5P",
        "colab": {
          "base_uri": "https://localhost:8080/"
        },
        "outputId": "b99062e2-c7b6-4ef7-f057-5d6a9dcffc27"
      },
      "execution_count": 59,
      "outputs": [
        {
          "output_type": "execute_result",
          "data": {
            "text/plain": [
              "torch.Size([1, 3, 64, 64])"
            ]
          },
          "metadata": {},
          "execution_count": 59
        }
      ]
    },
    {
      "cell_type": "code",
      "source": [
        "conv_layer = nn.Conv2d(in_channels=3,\n",
        "                       out_channels=64,\n",
        "                       kernel_size=3,\n",
        "                       stride=2,\n",
        "                       padding=1)\n",
        "\n",
        "print(f\"Random tensor original shape: {random_tensor.shape}\")\n",
        "random_tensor_through_conv_layer = conv_layer(random_tensor)\n",
        "print(f\"Random tensor through conv layer shape: {random_tensor_through_conv_layer.shape}\")"
      ],
      "metadata": {
        "colab": {
          "base_uri": "https://localhost:8080/"
        },
        "id": "_i-g-W6lYIfD",
        "outputId": "8f3f9359-7656-4392-fc4a-08cb09a544e6"
      },
      "execution_count": 60,
      "outputs": [
        {
          "output_type": "stream",
          "name": "stdout",
          "text": [
            "Random tensor original shape: torch.Size([1, 3, 64, 64])\n",
            "Random tensor through conv layer shape: torch.Size([1, 64, 32, 32])\n"
          ]
        }
      ]
    },
    {
      "cell_type": "markdown",
      "source": [
        "## 14. Wrong Predictions"
      ],
      "metadata": {
        "id": "m-NjxfHBZcH_"
      }
    },
    {
      "cell_type": "code",
      "source": [
        "# Get wrong prediction indexes\n",
        "import numpy as np\n",
        "wrong_pred_indexes = np.where(pred_label != truth_label)\n",
        "len(wrong_pred_indexes)"
      ],
      "metadata": {
        "colab": {
          "base_uri": "https://localhost:8080/"
        },
        "id": "Hg74twCHYZHZ",
        "outputId": "de0a6245-5d44-4877-963c-1278f461c1d9"
      },
      "execution_count": 64,
      "outputs": [
        {
          "output_type": "stream",
          "name": "stderr",
          "text": [
            "<ipython-input-64-0e4de2d16f79>:3: DeprecationWarning: Calling nonzero on 0d arrays is deprecated, as it behaves surprisingly. Use `atleast_1d(cond).nonzero()` if the old behavior was intended. If the context of this warning is of the form `arr[nonzero(cond)]`, just use `arr[cond]`.\n",
            "  wrong_pred_indexes = np.where(pred_label != truth_label)\n"
          ]
        },
        {
          "output_type": "execute_result",
          "data": {
            "text/plain": [
              "1"
            ]
          },
          "metadata": {},
          "execution_count": 64
        }
      ]
    },
    {
      "cell_type": "code",
      "source": [
        "wrong_pred_indexes"
      ],
      "metadata": {
        "colab": {
          "base_uri": "https://localhost:8080/"
        },
        "id": "HeD2q8DxY7op",
        "outputId": "721fa1e9-8590-41cd-98b3-f679ec7148c6"
      },
      "execution_count": 65,
      "outputs": [
        {
          "output_type": "execute_result",
          "data": {
            "text/plain": [
              "(array([], dtype=int64),)"
            ]
          },
          "metadata": {},
          "execution_count": 65
        }
      ]
    }
  ]
}